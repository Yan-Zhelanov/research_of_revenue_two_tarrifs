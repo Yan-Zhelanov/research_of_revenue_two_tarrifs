{
 "cells": [
  {
   "cell_type": "markdown",
   "metadata": {},
   "source": [
    "# Определение перспективного тарифа для телеком-компании"
   ]
  },
  {
   "cell_type": "markdown",
   "metadata": {},
   "source": [
    "Цель исследования — определить какой тариф из двух приносит бо́льшую прибыль, чтобы скорректировать рекламный бюджет."
   ]
  },
  {
   "cell_type": "markdown",
   "metadata": {},
   "source": [
    "## Изучение данных"
   ]
  },
  {
   "cell_type": "markdown",
   "metadata": {},
   "source": [
    "Начнём с импорта библиотек:"
   ]
  },
  {
   "cell_type": "code",
   "execution_count": null,
   "metadata": {},
   "outputs": [],
   "source": [
    "from matplotlib import pyplot as plt\n",
    "from matplotlib import ticker as mticker\n",
    "import numpy as np\n",
    "import pandas as pd\n",
    "from scipy import stats as st\n",
    "\n",
    "# увеличим максимальное количество колонок для отображения\n",
    "pd.options.display.max_columns = 15"
   ]
  },
  {
   "cell_type": "markdown",
   "metadata": {},
   "source": [
    "Загрузим и изучим данные:"
   ]
  },
  {
   "cell_type": "code",
   "execution_count": 1,
   "metadata": {},
   "outputs": [
    {
     "data": {
      "text/html": [
       "<div>\n",
       "<style scoped>\n",
       "    .dataframe tbody tr th:only-of-type {\n",
       "        vertical-align: middle;\n",
       "    }\n",
       "\n",
       "    .dataframe tbody tr th {\n",
       "        vertical-align: top;\n",
       "    }\n",
       "\n",
       "    .dataframe thead th {\n",
       "        text-align: right;\n",
       "    }\n",
       "</style>\n",
       "<table border=\"1\" class=\"dataframe\">\n",
       "  <thead>\n",
       "    <tr style=\"text-align: right;\">\n",
       "      <th></th>\n",
       "      <th>id</th>\n",
       "      <th>call_date</th>\n",
       "      <th>duration</th>\n",
       "      <th>user_id</th>\n",
       "    </tr>\n",
       "  </thead>\n",
       "  <tbody>\n",
       "    <tr>\n",
       "      <td>0</td>\n",
       "      <td>1000_0</td>\n",
       "      <td>2018-07-25</td>\n",
       "      <td>0.00</td>\n",
       "      <td>1000</td>\n",
       "    </tr>\n",
       "    <tr>\n",
       "      <td>1</td>\n",
       "      <td>1000_1</td>\n",
       "      <td>2018-08-17</td>\n",
       "      <td>0.00</td>\n",
       "      <td>1000</td>\n",
       "    </tr>\n",
       "    <tr>\n",
       "      <td>2</td>\n",
       "      <td>1000_2</td>\n",
       "      <td>2018-06-11</td>\n",
       "      <td>2.85</td>\n",
       "      <td>1000</td>\n",
       "    </tr>\n",
       "    <tr>\n",
       "      <td>3</td>\n",
       "      <td>1000_3</td>\n",
       "      <td>2018-09-21</td>\n",
       "      <td>13.80</td>\n",
       "      <td>1000</td>\n",
       "    </tr>\n",
       "    <tr>\n",
       "      <td>4</td>\n",
       "      <td>1000_4</td>\n",
       "      <td>2018-12-15</td>\n",
       "      <td>5.18</td>\n",
       "      <td>1000</td>\n",
       "    </tr>\n",
       "    <tr>\n",
       "      <td>5</td>\n",
       "      <td>1000_5</td>\n",
       "      <td>2018-11-02</td>\n",
       "      <td>0.00</td>\n",
       "      <td>1000</td>\n",
       "    </tr>\n",
       "    <tr>\n",
       "      <td>6</td>\n",
       "      <td>1000_6</td>\n",
       "      <td>2018-10-18</td>\n",
       "      <td>0.00</td>\n",
       "      <td>1000</td>\n",
       "    </tr>\n",
       "    <tr>\n",
       "      <td>7</td>\n",
       "      <td>1000_7</td>\n",
       "      <td>2018-08-22</td>\n",
       "      <td>18.31</td>\n",
       "      <td>1000</td>\n",
       "    </tr>\n",
       "    <tr>\n",
       "      <td>8</td>\n",
       "      <td>1000_8</td>\n",
       "      <td>2018-09-15</td>\n",
       "      <td>18.44</td>\n",
       "      <td>1000</td>\n",
       "    </tr>\n",
       "    <tr>\n",
       "      <td>9</td>\n",
       "      <td>1000_9</td>\n",
       "      <td>2018-08-15</td>\n",
       "      <td>0.00</td>\n",
       "      <td>1000</td>\n",
       "    </tr>\n",
       "  </tbody>\n",
       "</table>\n",
       "</div>"
      ],
      "text/plain": [
       "       id   call_date  duration  user_id\n",
       "0  1000_0  2018-07-25      0.00     1000\n",
       "1  1000_1  2018-08-17      0.00     1000\n",
       "2  1000_2  2018-06-11      2.85     1000\n",
       "3  1000_3  2018-09-21     13.80     1000\n",
       "4  1000_4  2018-12-15      5.18     1000\n",
       "5  1000_5  2018-11-02      0.00     1000\n",
       "6  1000_6  2018-10-18      0.00     1000\n",
       "7  1000_7  2018-08-22     18.31     1000\n",
       "8  1000_8  2018-09-15     18.44     1000\n",
       "9  1000_9  2018-08-15      0.00     1000"
      ]
     },
     "metadata": {},
     "output_type": "display_data"
    },
    {
     "data": {
      "text/html": [
       "<div>\n",
       "<style scoped>\n",
       "    .dataframe tbody tr th:only-of-type {\n",
       "        vertical-align: middle;\n",
       "    }\n",
       "\n",
       "    .dataframe tbody tr th {\n",
       "        vertical-align: top;\n",
       "    }\n",
       "\n",
       "    .dataframe thead th {\n",
       "        text-align: right;\n",
       "    }\n",
       "</style>\n",
       "<table border=\"1\" class=\"dataframe\">\n",
       "  <thead>\n",
       "    <tr style=\"text-align: right;\">\n",
       "      <th></th>\n",
       "      <th>Unnamed: 0</th>\n",
       "      <th>id</th>\n",
       "      <th>mb_used</th>\n",
       "      <th>session_date</th>\n",
       "      <th>user_id</th>\n",
       "    </tr>\n",
       "  </thead>\n",
       "  <tbody>\n",
       "    <tr>\n",
       "      <td>0</td>\n",
       "      <td>0</td>\n",
       "      <td>1000_0</td>\n",
       "      <td>112.95</td>\n",
       "      <td>2018-11-25</td>\n",
       "      <td>1000</td>\n",
       "    </tr>\n",
       "    <tr>\n",
       "      <td>1</td>\n",
       "      <td>1</td>\n",
       "      <td>1000_1</td>\n",
       "      <td>1052.81</td>\n",
       "      <td>2018-09-07</td>\n",
       "      <td>1000</td>\n",
       "    </tr>\n",
       "    <tr>\n",
       "      <td>2</td>\n",
       "      <td>2</td>\n",
       "      <td>1000_2</td>\n",
       "      <td>1197.26</td>\n",
       "      <td>2018-06-25</td>\n",
       "      <td>1000</td>\n",
       "    </tr>\n",
       "    <tr>\n",
       "      <td>3</td>\n",
       "      <td>3</td>\n",
       "      <td>1000_3</td>\n",
       "      <td>550.27</td>\n",
       "      <td>2018-08-22</td>\n",
       "      <td>1000</td>\n",
       "    </tr>\n",
       "    <tr>\n",
       "      <td>4</td>\n",
       "      <td>4</td>\n",
       "      <td>1000_4</td>\n",
       "      <td>302.56</td>\n",
       "      <td>2018-09-24</td>\n",
       "      <td>1000</td>\n",
       "    </tr>\n",
       "    <tr>\n",
       "      <td>5</td>\n",
       "      <td>5</td>\n",
       "      <td>1000_5</td>\n",
       "      <td>399.97</td>\n",
       "      <td>2018-10-02</td>\n",
       "      <td>1000</td>\n",
       "    </tr>\n",
       "    <tr>\n",
       "      <td>6</td>\n",
       "      <td>6</td>\n",
       "      <td>1000_6</td>\n",
       "      <td>540.08</td>\n",
       "      <td>2018-09-07</td>\n",
       "      <td>1000</td>\n",
       "    </tr>\n",
       "    <tr>\n",
       "      <td>7</td>\n",
       "      <td>7</td>\n",
       "      <td>1000_7</td>\n",
       "      <td>415.70</td>\n",
       "      <td>2018-07-11</td>\n",
       "      <td>1000</td>\n",
       "    </tr>\n",
       "    <tr>\n",
       "      <td>8</td>\n",
       "      <td>8</td>\n",
       "      <td>1000_8</td>\n",
       "      <td>505.40</td>\n",
       "      <td>2018-10-08</td>\n",
       "      <td>1000</td>\n",
       "    </tr>\n",
       "    <tr>\n",
       "      <td>9</td>\n",
       "      <td>9</td>\n",
       "      <td>1000_9</td>\n",
       "      <td>345.54</td>\n",
       "      <td>2018-09-03</td>\n",
       "      <td>1000</td>\n",
       "    </tr>\n",
       "  </tbody>\n",
       "</table>\n",
       "</div>"
      ],
      "text/plain": [
       "   Unnamed: 0      id  mb_used session_date  user_id\n",
       "0           0  1000_0   112.95   2018-11-25     1000\n",
       "1           1  1000_1  1052.81   2018-09-07     1000\n",
       "2           2  1000_2  1197.26   2018-06-25     1000\n",
       "3           3  1000_3   550.27   2018-08-22     1000\n",
       "4           4  1000_4   302.56   2018-09-24     1000\n",
       "5           5  1000_5   399.97   2018-10-02     1000\n",
       "6           6  1000_6   540.08   2018-09-07     1000\n",
       "7           7  1000_7   415.70   2018-07-11     1000\n",
       "8           8  1000_8   505.40   2018-10-08     1000\n",
       "9           9  1000_9   345.54   2018-09-03     1000"
      ]
     },
     "metadata": {},
     "output_type": "display_data"
    },
    {
     "data": {
      "text/html": [
       "<div>\n",
       "<style scoped>\n",
       "    .dataframe tbody tr th:only-of-type {\n",
       "        vertical-align: middle;\n",
       "    }\n",
       "\n",
       "    .dataframe tbody tr th {\n",
       "        vertical-align: top;\n",
       "    }\n",
       "\n",
       "    .dataframe thead th {\n",
       "        text-align: right;\n",
       "    }\n",
       "</style>\n",
       "<table border=\"1\" class=\"dataframe\">\n",
       "  <thead>\n",
       "    <tr style=\"text-align: right;\">\n",
       "      <th></th>\n",
       "      <th>id</th>\n",
       "      <th>message_date</th>\n",
       "      <th>user_id</th>\n",
       "    </tr>\n",
       "  </thead>\n",
       "  <tbody>\n",
       "    <tr>\n",
       "      <td>0</td>\n",
       "      <td>1000_0</td>\n",
       "      <td>2018-06-27</td>\n",
       "      <td>1000</td>\n",
       "    </tr>\n",
       "    <tr>\n",
       "      <td>1</td>\n",
       "      <td>1000_1</td>\n",
       "      <td>2018-10-08</td>\n",
       "      <td>1000</td>\n",
       "    </tr>\n",
       "    <tr>\n",
       "      <td>2</td>\n",
       "      <td>1000_2</td>\n",
       "      <td>2018-08-04</td>\n",
       "      <td>1000</td>\n",
       "    </tr>\n",
       "    <tr>\n",
       "      <td>3</td>\n",
       "      <td>1000_3</td>\n",
       "      <td>2018-06-16</td>\n",
       "      <td>1000</td>\n",
       "    </tr>\n",
       "    <tr>\n",
       "      <td>4</td>\n",
       "      <td>1000_4</td>\n",
       "      <td>2018-12-05</td>\n",
       "      <td>1000</td>\n",
       "    </tr>\n",
       "    <tr>\n",
       "      <td>5</td>\n",
       "      <td>1000_5</td>\n",
       "      <td>2018-06-20</td>\n",
       "      <td>1000</td>\n",
       "    </tr>\n",
       "    <tr>\n",
       "      <td>6</td>\n",
       "      <td>1000_6</td>\n",
       "      <td>2018-11-19</td>\n",
       "      <td>1000</td>\n",
       "    </tr>\n",
       "    <tr>\n",
       "      <td>7</td>\n",
       "      <td>1000_7</td>\n",
       "      <td>2018-10-29</td>\n",
       "      <td>1000</td>\n",
       "    </tr>\n",
       "    <tr>\n",
       "      <td>8</td>\n",
       "      <td>1000_8</td>\n",
       "      <td>2018-06-25</td>\n",
       "      <td>1000</td>\n",
       "    </tr>\n",
       "    <tr>\n",
       "      <td>9</td>\n",
       "      <td>1000_9</td>\n",
       "      <td>2018-12-18</td>\n",
       "      <td>1000</td>\n",
       "    </tr>\n",
       "  </tbody>\n",
       "</table>\n",
       "</div>"
      ],
      "text/plain": [
       "       id message_date  user_id\n",
       "0  1000_0   2018-06-27     1000\n",
       "1  1000_1   2018-10-08     1000\n",
       "2  1000_2   2018-08-04     1000\n",
       "3  1000_3   2018-06-16     1000\n",
       "4  1000_4   2018-12-05     1000\n",
       "5  1000_5   2018-06-20     1000\n",
       "6  1000_6   2018-11-19     1000\n",
       "7  1000_7   2018-10-29     1000\n",
       "8  1000_8   2018-06-25     1000\n",
       "9  1000_9   2018-12-18     1000"
      ]
     },
     "metadata": {},
     "output_type": "display_data"
    },
    {
     "data": {
      "text/html": [
       "<div>\n",
       "<style scoped>\n",
       "    .dataframe tbody tr th:only-of-type {\n",
       "        vertical-align: middle;\n",
       "    }\n",
       "\n",
       "    .dataframe tbody tr th {\n",
       "        vertical-align: top;\n",
       "    }\n",
       "\n",
       "    .dataframe thead th {\n",
       "        text-align: right;\n",
       "    }\n",
       "</style>\n",
       "<table border=\"1\" class=\"dataframe\">\n",
       "  <thead>\n",
       "    <tr style=\"text-align: right;\">\n",
       "      <th></th>\n",
       "      <th>messages_included</th>\n",
       "      <th>mb_per_month_included</th>\n",
       "      <th>minutes_included</th>\n",
       "      <th>rub_monthly_fee</th>\n",
       "      <th>rub_per_gb</th>\n",
       "      <th>rub_per_message</th>\n",
       "      <th>rub_per_minute</th>\n",
       "      <th>tariff_name</th>\n",
       "    </tr>\n",
       "  </thead>\n",
       "  <tbody>\n",
       "    <tr>\n",
       "      <td>0</td>\n",
       "      <td>50</td>\n",
       "      <td>15360</td>\n",
       "      <td>500</td>\n",
       "      <td>550</td>\n",
       "      <td>200</td>\n",
       "      <td>3</td>\n",
       "      <td>3</td>\n",
       "      <td>smart</td>\n",
       "    </tr>\n",
       "    <tr>\n",
       "      <td>1</td>\n",
       "      <td>1000</td>\n",
       "      <td>30720</td>\n",
       "      <td>3000</td>\n",
       "      <td>1950</td>\n",
       "      <td>150</td>\n",
       "      <td>1</td>\n",
       "      <td>1</td>\n",
       "      <td>ultra</td>\n",
       "    </tr>\n",
       "  </tbody>\n",
       "</table>\n",
       "</div>"
      ],
      "text/plain": [
       "   messages_included  mb_per_month_included  minutes_included  \\\n",
       "0                 50                  15360               500   \n",
       "1               1000                  30720              3000   \n",
       "\n",
       "   rub_monthly_fee  rub_per_gb  rub_per_message  rub_per_minute tariff_name  \n",
       "0              550         200                3               3       smart  \n",
       "1             1950         150                1               1       ultra  "
      ]
     },
     "metadata": {},
     "output_type": "display_data"
    },
    {
     "data": {
      "text/html": [
       "<div>\n",
       "<style scoped>\n",
       "    .dataframe tbody tr th:only-of-type {\n",
       "        vertical-align: middle;\n",
       "    }\n",
       "\n",
       "    .dataframe tbody tr th {\n",
       "        vertical-align: top;\n",
       "    }\n",
       "\n",
       "    .dataframe thead th {\n",
       "        text-align: right;\n",
       "    }\n",
       "</style>\n",
       "<table border=\"1\" class=\"dataframe\">\n",
       "  <thead>\n",
       "    <tr style=\"text-align: right;\">\n",
       "      <th></th>\n",
       "      <th>user_id</th>\n",
       "      <th>age</th>\n",
       "      <th>churn_date</th>\n",
       "      <th>city</th>\n",
       "      <th>first_name</th>\n",
       "      <th>last_name</th>\n",
       "      <th>reg_date</th>\n",
       "      <th>tariff</th>\n",
       "    </tr>\n",
       "  </thead>\n",
       "  <tbody>\n",
       "    <tr>\n",
       "      <td>0</td>\n",
       "      <td>1000</td>\n",
       "      <td>52</td>\n",
       "      <td>NaN</td>\n",
       "      <td>Краснодар</td>\n",
       "      <td>Рафаил</td>\n",
       "      <td>Верещагин</td>\n",
       "      <td>2018-05-25</td>\n",
       "      <td>ultra</td>\n",
       "    </tr>\n",
       "    <tr>\n",
       "      <td>1</td>\n",
       "      <td>1001</td>\n",
       "      <td>41</td>\n",
       "      <td>NaN</td>\n",
       "      <td>Москва</td>\n",
       "      <td>Иван</td>\n",
       "      <td>Ежов</td>\n",
       "      <td>2018-11-01</td>\n",
       "      <td>smart</td>\n",
       "    </tr>\n",
       "    <tr>\n",
       "      <td>2</td>\n",
       "      <td>1002</td>\n",
       "      <td>59</td>\n",
       "      <td>NaN</td>\n",
       "      <td>Стерлитамак</td>\n",
       "      <td>Евгений</td>\n",
       "      <td>Абрамович</td>\n",
       "      <td>2018-06-17</td>\n",
       "      <td>smart</td>\n",
       "    </tr>\n",
       "    <tr>\n",
       "      <td>3</td>\n",
       "      <td>1003</td>\n",
       "      <td>23</td>\n",
       "      <td>NaN</td>\n",
       "      <td>Москва</td>\n",
       "      <td>Белла</td>\n",
       "      <td>Белякова</td>\n",
       "      <td>2018-08-17</td>\n",
       "      <td>ultra</td>\n",
       "    </tr>\n",
       "    <tr>\n",
       "      <td>4</td>\n",
       "      <td>1004</td>\n",
       "      <td>68</td>\n",
       "      <td>NaN</td>\n",
       "      <td>Новокузнецк</td>\n",
       "      <td>Татьяна</td>\n",
       "      <td>Авдеенко</td>\n",
       "      <td>2018-05-14</td>\n",
       "      <td>ultra</td>\n",
       "    </tr>\n",
       "    <tr>\n",
       "      <td>5</td>\n",
       "      <td>1005</td>\n",
       "      <td>67</td>\n",
       "      <td>NaN</td>\n",
       "      <td>Набережные Челны</td>\n",
       "      <td>Афанасий</td>\n",
       "      <td>Горлов</td>\n",
       "      <td>2018-01-25</td>\n",
       "      <td>smart</td>\n",
       "    </tr>\n",
       "    <tr>\n",
       "      <td>6</td>\n",
       "      <td>1006</td>\n",
       "      <td>21</td>\n",
       "      <td>NaN</td>\n",
       "      <td>Ульяновск</td>\n",
       "      <td>Леонид</td>\n",
       "      <td>Ермолаев</td>\n",
       "      <td>2018-02-26</td>\n",
       "      <td>smart</td>\n",
       "    </tr>\n",
       "    <tr>\n",
       "      <td>7</td>\n",
       "      <td>1007</td>\n",
       "      <td>65</td>\n",
       "      <td>NaN</td>\n",
       "      <td>Москва</td>\n",
       "      <td>Юна</td>\n",
       "      <td>Березина</td>\n",
       "      <td>2018-04-19</td>\n",
       "      <td>smart</td>\n",
       "    </tr>\n",
       "    <tr>\n",
       "      <td>8</td>\n",
       "      <td>1008</td>\n",
       "      <td>63</td>\n",
       "      <td>NaN</td>\n",
       "      <td>Челябинск</td>\n",
       "      <td>Рустэм</td>\n",
       "      <td>Пономарёв</td>\n",
       "      <td>2018-12-19</td>\n",
       "      <td>smart</td>\n",
       "    </tr>\n",
       "    <tr>\n",
       "      <td>9</td>\n",
       "      <td>1009</td>\n",
       "      <td>24</td>\n",
       "      <td>NaN</td>\n",
       "      <td>Пермь</td>\n",
       "      <td>Василиса</td>\n",
       "      <td>Блинова</td>\n",
       "      <td>2018-03-22</td>\n",
       "      <td>smart</td>\n",
       "    </tr>\n",
       "  </tbody>\n",
       "</table>\n",
       "</div>"
      ],
      "text/plain": [
       "   user_id  age churn_date              city first_name  last_name  \\\n",
       "0     1000   52        NaN         Краснодар     Рафаил  Верещагин   \n",
       "1     1001   41        NaN            Москва       Иван       Ежов   \n",
       "2     1002   59        NaN       Стерлитамак    Евгений  Абрамович   \n",
       "3     1003   23        NaN            Москва      Белла   Белякова   \n",
       "4     1004   68        NaN       Новокузнецк    Татьяна   Авдеенко   \n",
       "5     1005   67        NaN  Набережные Челны   Афанасий     Горлов   \n",
       "6     1006   21        NaN         Ульяновск     Леонид   Ермолаев   \n",
       "7     1007   65        NaN            Москва        Юна   Березина   \n",
       "8     1008   63        NaN         Челябинск     Рустэм  Пономарёв   \n",
       "9     1009   24        NaN             Пермь   Василиса    Блинова   \n",
       "\n",
       "     reg_date tariff  \n",
       "0  2018-05-25  ultra  \n",
       "1  2018-11-01  smart  \n",
       "2  2018-06-17  smart  \n",
       "3  2018-08-17  ultra  \n",
       "4  2018-05-14  ultra  \n",
       "5  2018-01-25  smart  \n",
       "6  2018-02-26  smart  \n",
       "7  2018-04-19  smart  \n",
       "8  2018-12-19  smart  \n",
       "9  2018-03-22  smart  "
      ]
     },
     "metadata": {},
     "output_type": "display_data"
    }
   ],
   "source": [
    "df_calls = pd.read_csv('/datasets/calls.csv')\n",
    "display(df_calls.head(10))\n",
    "df_internet = pd.read_csv('/datasets/internet.csv')\n",
    "display(df_internet.head(10))\n",
    "df_messages = pd.read_csv('/datasets/messages.csv')\n",
    "display(df_messages.head(10))\n",
    "df_tariffs = pd.read_csv('/datasets/tariffs.csv')\n",
    "display(df_tariffs.head(10))\n",
    "df_users = pd.read_csv('/datasets/users.csv')\n",
    "display(df_users.head(10))"
   ]
  },
  {
   "cell_type": "markdown",
   "metadata": {},
   "source": [
    "Изучим общие сведенья:"
   ]
  },
  {
   "cell_type": "code",
   "execution_count": 2,
   "metadata": {},
   "outputs": [
    {
     "name": "stdout",
     "output_type": "stream",
     "text": [
      "Calls\n",
      "<class 'pandas.core.frame.DataFrame'>\n",
      "RangeIndex: 202607 entries, 0 to 202606\n",
      "Data columns (total 4 columns):\n",
      "id           202607 non-null object\n",
      "call_date    202607 non-null object\n",
      "duration     202607 non-null float64\n",
      "user_id      202607 non-null int64\n",
      "dtypes: float64(1), int64(1), object(2)\n",
      "memory usage: 6.2+ MB\n",
      "\n",
      "Internet\n",
      "<class 'pandas.core.frame.DataFrame'>\n",
      "RangeIndex: 149396 entries, 0 to 149395\n",
      "Data columns (total 5 columns):\n",
      "Unnamed: 0      149396 non-null int64\n",
      "id              149396 non-null object\n",
      "mb_used         149396 non-null float64\n",
      "session_date    149396 non-null object\n",
      "user_id         149396 non-null int64\n",
      "dtypes: float64(1), int64(2), object(2)\n",
      "memory usage: 5.7+ MB\n",
      "\n",
      "Messages\n",
      "<class 'pandas.core.frame.DataFrame'>\n",
      "RangeIndex: 123036 entries, 0 to 123035\n",
      "Data columns (total 3 columns):\n",
      "id              123036 non-null object\n",
      "message_date    123036 non-null object\n",
      "user_id         123036 non-null int64\n",
      "dtypes: int64(1), object(2)\n",
      "memory usage: 2.8+ MB\n",
      "\n",
      "Tariffs\n",
      "<class 'pandas.core.frame.DataFrame'>\n",
      "RangeIndex: 2 entries, 0 to 1\n",
      "Data columns (total 8 columns):\n",
      "messages_included        2 non-null int64\n",
      "mb_per_month_included    2 non-null int64\n",
      "minutes_included         2 non-null int64\n",
      "rub_monthly_fee          2 non-null int64\n",
      "rub_per_gb               2 non-null int64\n",
      "rub_per_message          2 non-null int64\n",
      "rub_per_minute           2 non-null int64\n",
      "tariff_name              2 non-null object\n",
      "dtypes: int64(7), object(1)\n",
      "memory usage: 256.0+ bytes\n",
      "\n",
      "Users\n",
      "<class 'pandas.core.frame.DataFrame'>\n",
      "RangeIndex: 500 entries, 0 to 499\n",
      "Data columns (total 8 columns):\n",
      "user_id       500 non-null int64\n",
      "age           500 non-null int64\n",
      "churn_date    38 non-null object\n",
      "city          500 non-null object\n",
      "first_name    500 non-null object\n",
      "last_name     500 non-null object\n",
      "reg_date      500 non-null object\n",
      "tariff        500 non-null object\n",
      "dtypes: int64(2), object(6)\n",
      "memory usage: 31.4+ KB\n"
     ]
    }
   ],
   "source": [
    "print('Calls')\n",
    "df_calls.info()\n",
    "print('\\nInternet')\n",
    "df_internet.info()\n",
    "print('\\nMessages')\n",
    "df_messages.info()\n",
    "print('\\nTariffs')\n",
    "df_tariffs.info()\n",
    "print('\\nUsers')\n",
    "df_users.info()"
   ]
  },
  {
   "cell_type": "markdown",
   "metadata": {},
   "source": [
    "Проверим наличие дубликатов:"
   ]
  },
  {
   "cell_type": "code",
   "execution_count": 3,
   "metadata": {},
   "outputs": [
    {
     "name": "stdout",
     "output_type": "stream",
     "text": [
      "Users: 0\n",
      "Calls: 0\n",
      "Messages: 0\n",
      "Internet: 0\n"
     ]
    }
   ],
   "source": [
    "print('Users:', df_users.duplicated().sum())\n",
    "print('Calls:', df_calls.duplicated().sum())\n",
    "print('Messages:', df_messages.duplicated().sum())\n",
    "print('Internet:', df_internet.duplicated().sum())"
   ]
  },
  {
   "cell_type": "markdown",
   "metadata": {},
   "source": [
    "Изучим значения уникальных колонок более детально:"
   ]
  },
  {
   "cell_type": "code",
   "execution_count": 4,
   "metadata": {
    "scrolled": false
   },
   "outputs": [
    {
     "name": "stdout",
     "output_type": "stream",
     "text": [
      "Calls\n",
      "id: min — 1000_0; max — 1499_99\n",
      "call_date: min — 2018-01-01; max — 2018-12-31\n",
      "duration:\n",
      "count    202607.000000\n",
      "mean          6.755887\n",
      "std           5.843365\n",
      "min           0.000000\n",
      "25%           1.300000\n",
      "50%           6.000000\n",
      "75%          10.700000\n",
      "max          38.000000\n",
      "Name: duration, dtype: float64\n",
      "user_id: min — 1000; max — 1499\n",
      "\n",
      "Internet\n",
      "\"Unnamed: 0\": min — 0;max — 149395\n",
      "mb_used:\n",
      "count    149396.000000\n",
      "mean        370.192426\n",
      "std         278.300951\n",
      "min           0.000000\n",
      "25%         138.187500\n",
      "50%         348.015000\n",
      "75%         559.552500\n",
      "max        1724.830000\n",
      "Name: mb_used, dtype: float64\n",
      "\n",
      "Users\n",
      "age:\n",
      "count    500.00000\n",
      "mean      46.58800\n",
      "std       16.66763\n",
      "min       18.00000\n",
      "25%       32.00000\n",
      "50%       46.00000\n",
      "75%       62.00000\n",
      "max       75.00000\n",
      "Name: age, dtype: float64\n",
      "churn_date: [nan '2018-10-05' '2018-12-18' '2018-11-21' '2018-10-03']\n",
      "tariff: ['ultra' 'smart']\n"
     ]
    }
   ],
   "source": [
    "# Calls\n",
    "print(f'Calls\\nid: min — {df_calls[\"id\"].min()}; max — {df_calls[\"id\"].max()}')\n",
    "print(f'call_date: min — {df_calls[\"call_date\"].min()}; max — {df_calls[\"call_date\"].max()}')\n",
    "print(f'duration:\\n{df_calls[\"duration\"].describe()}')\n",
    "print(f'user_id: min — {df_calls[\"user_id\"].min()}; max — {df_calls[\"user_id\"].max()}')\n",
    "# Internet\n",
    "print(\n",
    "    f'\\nInternet\\n\"Unnamed: 0\": min — {df_internet[\"Unnamed: 0\"].min()};'\n",
    "    f'max — {df_internet[\"Unnamed: 0\"].max()}'\n",
    ")\n",
    "print(f'mb_used:\\n{df_internet[\"mb_used\"].describe()}')\n",
    "# Users\n",
    "print(\n",
    "    f'\\nUsers\\nage:\\n{df_users[\"age\"].describe()}'\n",
    ")\n",
    "print('churn_date:', df_users[\"churn_date\"].unique()[:5])\n",
    "print('tariff:', df_users[\"tariff\"].unique())"
   ]
  },
  {
   "cell_type": "markdown",
   "metadata": {},
   "source": [
    "Из документации к данным **таблица calls (информация о звонках):**\n",
    "- `id` — уникальный номер звонка\n",
    "- `call_date` — дата звонка\n",
    "- `duration` — длительность звонка в минутах\n",
    "- `user_id` — идентификатор пользователя, сделавшего звонок\n",
    "\n",
    "**Таблица internet (информация об интернет-сессиях):**\n",
    "- `id` — уникальный номер сессии\n",
    "- `mb_used` — объём потраченного за сессию интернет-трафика (в мегабайтах)\n",
    "- `session_date` — дата интернет-сессии\n",
    "- `user_id` — идентификатор пользователя\n",
    "\n",
    "**Таблица messages (информация о сообщениях):**\n",
    "- `id` — уникальный номер сообщения\n",
    "- `message_date` — дата сообщения\n",
    "- `user_id` — идентификатор пользователя, отправившего сообщение\n",
    "\n",
    "**Таблица tariffs (информация о тарифах):**\n",
    "- `tariff_name` — название тарифа\n",
    "- `rub_monthly_fee` — ежемесячная абонентская плата в рублях\n",
    "- `minutes_included` — количество минут разговора в месяц, включённых в абонентскую плату\n",
    "- `messages_included` — количество сообщений в месяц, включённых в абонентскую плату\n",
    "- `mb_per_month_included` — объём интернет-трафика, включённого в абонентскую плату (в мегабайтах)\n",
    "- `rub_per_minute` — стоимость минуты разговора сверх тарифного пакета (например, если в тарифе 100 минут разговора в месяц, то со 101 минуты будет взиматься плата)\n",
    "- `rub_per_message` — стоимость отправки сообщения сверх тарифного пакета\n",
    "- `rub_per_gb` — стоимость дополнительного гигабайта интернет-трафика сверх тарифного пакета (1 гигабайт = 1024 мегабайта)\n",
    "\n",
    "**Таблица users (информация о пользователях):**\n",
    "- `user_id` — уникальный идентификатор пользователя\n",
    "- `first_name` — имя пользователя\n",
    "- `last_name` — фамилия пользователя\n",
    "- `age` — возраст пользователя (годы)\n",
    "- `reg_date` — дата подключения тарифа (день, месяц, год)\n",
    "- `churn_date` — дата прекращения пользования тарифом (если значение пропущено, то тариф ещё действовал на момент выгрузки данных)\n",
    "- `city` — город проживания пользователя\n",
    "- `tariff` — название тарифного плана"
   ]
  },
  {
   "cell_type": "markdown",
   "metadata": {},
   "source": [
    "**Вывод**\n",
    "\n",
    "В таблицах `calls`, `internet` и `messages` нет пропусков, они очень похожи между собой, некоторые колонки полностью повторяются. Дубликатов ни в одной из таблиц не было обнаружено. Каждая строчка в таблицах содержит информацию об одном действие: звонке или сообщении, а в случае с интернетом — об одной сессии, коих в день может быть несколько. Таблица `tariffs` имеет всего две строчки: информацию о тарифе \"Смарт\" и \"Ультима\". В таблице `users` собрана информация по каждому пользователю, имеются пропуски в столбце `churn_date`, но эти пропуски означают, что тариф не был отключён пользователем.\n",
    "\n",
    "Обнаруженные проблемы:\n",
    "- В таблице `internet` есть лишняя колонка `Unnamed: 0`, она полностью повторяет индексацию строк.\n",
    "- В таблице `calls` колонку `duration` нужно перевести в integer, при этом округлив в бо́льшую сторону.\n",
    "- В таблице `internet` колонку `mb_used` нужно перевести в гигабайты, при этом округлив в бо́льшую сторону.\n",
    "- В таблицах `calls`, `internet`, `sessions` и `users` нужно перевести даты в DateTime, кроме столбца `churn_date`, так как он содержит пропуски.\n",
    "- В таблицах `calls`, `internet` и `messages` колонка `id` избыточна, так как `user_id` уже присутствует.\n",
    "\n",
    "Для дальйнешего исследования нам нужно исправить все проблемы, чтобы работать с данными было удобно."
   ]
  },
  {
   "cell_type": "markdown",
   "metadata": {},
   "source": [
    "## Подготовка данных"
   ]
  },
  {
   "cell_type": "markdown",
   "metadata": {},
   "source": [
    "### Приведение к нужным типам данных"
   ]
  },
  {
   "cell_type": "markdown",
   "metadata": {},
   "source": [
    "Как мы помним колонку `duration` нам нужно округлить в бо́льшую сторону, поэтому вещественный тип в данном случае излишен, как и в колонке `mb_used`, давайте для начала округлим, а после переведём в `duration` и `mb_used` к целочисленному типу:"
   ]
  },
  {
   "cell_type": "code",
   "execution_count": 5,
   "metadata": {},
   "outputs": [],
   "source": [
    "# округлим колонку duration в бо́льшую сторону\n",
    "df_calls['duration'] = np.ceil(df_calls['duration'])\n",
    "# переведём все колонки из вещественных в целочисленные\n",
    "df_calls['duration'] = df_calls['duration'].astype('int')\n",
    "df_internet['mb_used'] = df_internet['mb_used'].astype('int')"
   ]
  },
  {
   "cell_type": "markdown",
   "metadata": {},
   "source": [
    "Теперь переведём все даты из строковых типов в DateTime:"
   ]
  },
  {
   "cell_type": "code",
   "execution_count": 6,
   "metadata": {},
   "outputs": [],
   "source": [
    "date_format = '%Y-%m-%d'\n",
    "df_calls['call_date'] = pd.to_datetime(df_calls['call_date'], format=date_format)\n",
    "df_internet['session_date'] = pd.to_datetime(df_internet['session_date'], format=date_format)\n",
    "df_messages['message_date'] = pd.to_datetime(df_messages['message_date'], format=date_format)\n",
    "df_users['reg_date'] = pd.to_datetime(df_users['reg_date'], format=date_format)"
   ]
  },
  {
   "cell_type": "markdown",
   "metadata": {},
   "source": [
    "Проверим проделанную работу:"
   ]
  },
  {
   "cell_type": "code",
   "execution_count": 7,
   "metadata": {
    "scrolled": false
   },
   "outputs": [
    {
     "name": "stdout",
     "output_type": "stream",
     "text": [
      "Calls\n",
      "<class 'pandas.core.frame.DataFrame'>\n",
      "RangeIndex: 202607 entries, 0 to 202606\n",
      "Data columns (total 4 columns):\n",
      "id           202607 non-null object\n",
      "call_date    202607 non-null datetime64[ns]\n",
      "duration     202607 non-null int64\n",
      "user_id      202607 non-null int64\n",
      "dtypes: datetime64[ns](1), int64(2), object(1)\n",
      "memory usage: 6.2+ MB\n",
      "\n",
      "Internet\n",
      "<class 'pandas.core.frame.DataFrame'>\n",
      "RangeIndex: 149396 entries, 0 to 149395\n",
      "Data columns (total 5 columns):\n",
      "Unnamed: 0      149396 non-null int64\n",
      "id              149396 non-null object\n",
      "mb_used         149396 non-null int64\n",
      "session_date    149396 non-null datetime64[ns]\n",
      "user_id         149396 non-null int64\n",
      "dtypes: datetime64[ns](1), int64(3), object(1)\n",
      "memory usage: 5.7+ MB\n",
      "\n",
      "Messages\n",
      "<class 'pandas.core.frame.DataFrame'>\n",
      "RangeIndex: 123036 entries, 0 to 123035\n",
      "Data columns (total 3 columns):\n",
      "id              123036 non-null object\n",
      "message_date    123036 non-null datetime64[ns]\n",
      "user_id         123036 non-null int64\n",
      "dtypes: datetime64[ns](1), int64(1), object(1)\n",
      "memory usage: 2.8+ MB\n",
      "\n",
      "Users\n",
      "<class 'pandas.core.frame.DataFrame'>\n",
      "RangeIndex: 500 entries, 0 to 499\n",
      "Data columns (total 8 columns):\n",
      "user_id       500 non-null int64\n",
      "age           500 non-null int64\n",
      "churn_date    38 non-null object\n",
      "city          500 non-null object\n",
      "first_name    500 non-null object\n",
      "last_name     500 non-null object\n",
      "reg_date      500 non-null datetime64[ns]\n",
      "tariff        500 non-null object\n",
      "dtypes: datetime64[ns](1), int64(2), object(5)\n",
      "memory usage: 31.4+ KB\n"
     ]
    }
   ],
   "source": [
    "print('Calls')\n",
    "df_calls.info()\n",
    "print('\\nInternet')\n",
    "df_internet.info()\n",
    "print('\\nMessages')\n",
    "df_messages.info()\n",
    "print('\\nUsers')\n",
    "df_users.info()"
   ]
  },
  {
   "cell_type": "markdown",
   "metadata": {},
   "source": [
    "### Исправление ошибок"
   ]
  },
  {
   "cell_type": "markdown",
   "metadata": {},
   "source": [
    "Удалим избыточные столбцы:"
   ]
  },
  {
   "cell_type": "code",
   "execution_count": 8,
   "metadata": {},
   "outputs": [],
   "source": [
    "del df_calls['id']\n",
    "del df_messages['id']\n",
    "del df_internet['id']\n",
    "del df_internet['Unnamed: 0']"
   ]
  },
  {
   "cell_type": "markdown",
   "metadata": {},
   "source": [
    "### Рассчёт значений"
   ]
  },
  {
   "cell_type": "markdown",
   "metadata": {},
   "source": [
    "#### Сообщения, звонки и трафик"
   ]
  },
  {
   "cell_type": "markdown",
   "metadata": {},
   "source": [
    "Для начала рассчитаем количетсво звонков, сообщений и потраченного трафика в месяц для каждого клиента, для этого давайте добавим столбцы с месяцами в таблицы:"
   ]
  },
  {
   "cell_type": "code",
   "execution_count": 9,
   "metadata": {},
   "outputs": [],
   "source": [
    "df_calls['month'] = pd.DatetimeIndex(df_calls['call_date']).month\n",
    "df_internet['month'] = pd.DatetimeIndex(df_internet['session_date']).month\n",
    "df_messages['month'] = pd.DatetimeIndex(df_messages['message_date']).month"
   ]
  },
  {
   "cell_type": "markdown",
   "metadata": {},
   "source": [
    "Теперь исключим из выборки нулевые звонки и сгруппируем данные по пользователю и по месяцу, не забудем переименовать колонки, чтобы было удобнее пользоваться новой таблицей:"
   ]
  },
  {
   "cell_type": "code",
   "execution_count": 10,
   "metadata": {},
   "outputs": [],
   "source": [
    "df_month_calls = df_calls[df_calls['duration'] > 0].pivot_table(\n",
    "    index=['user_id', 'month'], values='duration', aggfunc=['count', 'sum']\n",
    ")\n",
    "df_month_calls.columns = ['calls_count', 'duration_calls']"
   ]
  },
  {
   "cell_type": "markdown",
   "metadata": {},
   "source": [
    "Сгруппируем так же потраченный трафик для каждого из пользователей, количество сессий нас не интересует, поэтому будем считать только сумму:"
   ]
  },
  {
   "cell_type": "code",
   "execution_count": 11,
   "metadata": {},
   "outputs": [],
   "source": [
    "df_month_internet = df_internet.pivot_table(index=['user_id', 'month'], values='mb_used', aggfunc='sum')"
   ]
  },
  {
   "cell_type": "markdown",
   "metadata": {},
   "source": [
    "Посчитаем количество сообщений для каждого пользователя и переменуем колонку:"
   ]
  },
  {
   "cell_type": "code",
   "execution_count": 12,
   "metadata": {},
   "outputs": [],
   "source": [
    "df_month_messages = df_messages.pivot_table(index=['user_id', 'month'], aggfunc='count')\n",
    "df_month_messages.columns = ['messages_count']"
   ]
  },
  {
   "cell_type": "markdown",
   "metadata": {},
   "source": [
    "Соединим полученные значения в одну таблицу, чтобы не потерять никакие значения будем использовать внешнее соединение и посмотрим на полученный результат:"
   ]
  },
  {
   "cell_type": "code",
   "execution_count": 13,
   "metadata": {},
   "outputs": [
    {
     "data": {
      "text/html": [
       "<div>\n",
       "<style scoped>\n",
       "    .dataframe tbody tr th:only-of-type {\n",
       "        vertical-align: middle;\n",
       "    }\n",
       "\n",
       "    .dataframe tbody tr th {\n",
       "        vertical-align: top;\n",
       "    }\n",
       "\n",
       "    .dataframe thead th {\n",
       "        text-align: right;\n",
       "    }\n",
       "</style>\n",
       "<table border=\"1\" class=\"dataframe\">\n",
       "  <thead>\n",
       "    <tr style=\"text-align: right;\">\n",
       "      <th></th>\n",
       "      <th></th>\n",
       "      <th>messages_count</th>\n",
       "      <th>mb_used</th>\n",
       "      <th>calls_count</th>\n",
       "      <th>duration_calls</th>\n",
       "    </tr>\n",
       "    <tr>\n",
       "      <th>user_id</th>\n",
       "      <th>month</th>\n",
       "      <th></th>\n",
       "      <th></th>\n",
       "      <th></th>\n",
       "      <th></th>\n",
       "    </tr>\n",
       "  </thead>\n",
       "  <tbody>\n",
       "    <tr>\n",
       "      <td rowspan=\"5\" valign=\"top\">1000</td>\n",
       "      <td>5</td>\n",
       "      <td>22.0</td>\n",
       "      <td>2252.0</td>\n",
       "      <td>17.0</td>\n",
       "      <td>159.0</td>\n",
       "    </tr>\n",
       "    <tr>\n",
       "      <td>6</td>\n",
       "      <td>60.0</td>\n",
       "      <td>23213.0</td>\n",
       "      <td>28.0</td>\n",
       "      <td>172.0</td>\n",
       "    </tr>\n",
       "    <tr>\n",
       "      <td>7</td>\n",
       "      <td>75.0</td>\n",
       "      <td>13988.0</td>\n",
       "      <td>41.0</td>\n",
       "      <td>340.0</td>\n",
       "    </tr>\n",
       "    <tr>\n",
       "      <td>8</td>\n",
       "      <td>81.0</td>\n",
       "      <td>14043.0</td>\n",
       "      <td>42.0</td>\n",
       "      <td>408.0</td>\n",
       "    </tr>\n",
       "    <tr>\n",
       "      <td>9</td>\n",
       "      <td>57.0</td>\n",
       "      <td>14556.0</td>\n",
       "      <td>46.0</td>\n",
       "      <td>466.0</td>\n",
       "    </tr>\n",
       "    <tr>\n",
       "      <td>...</td>\n",
       "      <td>...</td>\n",
       "      <td>...</td>\n",
       "      <td>...</td>\n",
       "      <td>...</td>\n",
       "      <td>...</td>\n",
       "    </tr>\n",
       "    <tr>\n",
       "      <td rowspan=\"5\" valign=\"top\">1494</td>\n",
       "      <td>8</td>\n",
       "      <td>NaN</td>\n",
       "      <td>6580.0</td>\n",
       "      <td>26.0</td>\n",
       "      <td>262.0</td>\n",
       "    </tr>\n",
       "    <tr>\n",
       "      <td>9</td>\n",
       "      <td>NaN</td>\n",
       "      <td>16939.0</td>\n",
       "      <td>57.0</td>\n",
       "      <td>501.0</td>\n",
       "    </tr>\n",
       "    <tr>\n",
       "      <td>10</td>\n",
       "      <td>NaN</td>\n",
       "      <td>17741.0</td>\n",
       "      <td>45.0</td>\n",
       "      <td>354.0</td>\n",
       "    </tr>\n",
       "    <tr>\n",
       "      <td>11</td>\n",
       "      <td>NaN</td>\n",
       "      <td>18034.0</td>\n",
       "      <td>46.0</td>\n",
       "      <td>411.0</td>\n",
       "    </tr>\n",
       "    <tr>\n",
       "      <td>12</td>\n",
       "      <td>NaN</td>\n",
       "      <td>17601.0</td>\n",
       "      <td>54.0</td>\n",
       "      <td>418.0</td>\n",
       "    </tr>\n",
       "  </tbody>\n",
       "</table>\n",
       "<p>3214 rows × 4 columns</p>\n",
       "</div>"
      ],
      "text/plain": [
       "               messages_count  mb_used  calls_count  duration_calls\n",
       "user_id month                                                      \n",
       "1000    5                22.0   2252.0         17.0           159.0\n",
       "        6                60.0  23213.0         28.0           172.0\n",
       "        7                75.0  13988.0         41.0           340.0\n",
       "        8                81.0  14043.0         42.0           408.0\n",
       "        9                57.0  14556.0         46.0           466.0\n",
       "...                       ...      ...          ...             ...\n",
       "1494    8                 NaN   6580.0         26.0           262.0\n",
       "        9                 NaN  16939.0         57.0           501.0\n",
       "        10                NaN  17741.0         45.0           354.0\n",
       "        11                NaN  18034.0         46.0           411.0\n",
       "        12                NaN  17601.0         54.0           418.0\n",
       "\n",
       "[3214 rows x 4 columns]"
      ]
     },
     "execution_count": 13,
     "metadata": {},
     "output_type": "execute_result"
    }
   ],
   "source": [
    "df_month = df_month_messages.merge(df_month_internet, how='outer', on=['user_id', 'month'])\n",
    "df_month = df_month.merge(df_month_calls, how='outer', on=['user_id', 'month'])\n",
    "df_month"
   ]
  },
  {
   "cell_type": "markdown",
   "metadata": {},
   "source": [
    "Добавим в таблицу `users` для каждого пользователя месяц: "
   ]
  },
  {
   "cell_type": "code",
   "execution_count": 14,
   "metadata": {},
   "outputs": [],
   "source": [
    "df_users_month = pd.DataFrame({\n",
    "    'user_id': [user_id for user_id in range(1000, 1500) for _ in range(12)],\n",
    "    'month': [month for _ in range(500) for month in range(1, 13)],\n",
    "})\n",
    "df_users = df_users.merge(df_users_month, on='user_id')"
   ]
  },
  {
   "cell_type": "markdown",
   "metadata": {},
   "source": [
    "Добавим рассчитанные значения в таблицу `users`:"
   ]
  },
  {
   "cell_type": "code",
   "execution_count": 15,
   "metadata": {},
   "outputs": [],
   "source": [
    "df_users = df_users.merge(df_month, on=['user_id', 'month'])"
   ]
  },
  {
   "cell_type": "markdown",
   "metadata": {},
   "source": [
    "Посчитаем пропуски:"
   ]
  },
  {
   "cell_type": "code",
   "execution_count": 16,
   "metadata": {},
   "outputs": [
    {
     "data": {
      "text/plain": [
       "user_id           0.000000\n",
       "age               0.000000\n",
       "churn_date        0.941817\n",
       "city              0.000000\n",
       "first_name        0.000000\n",
       "last_name         0.000000\n",
       "reg_date          0.000000\n",
       "tariff            0.000000\n",
       "month             0.000000\n",
       "messages_count    0.154636\n",
       "mb_used           0.003423\n",
       "calls_count       0.014312\n",
       "duration_calls    0.014312\n",
       "dtype: float64"
      ]
     },
     "execution_count": 16,
     "metadata": {},
     "output_type": "execute_result"
    }
   ],
   "source": [
    "df_users.isna().mean()"
   ]
  },
  {
   "cell_type": "markdown",
   "metadata": {},
   "source": [
    "В добавленных только что колонках отстутсвуют значения, потому что пользователь не использовал ту или иную функцию своего тарифа, поэтому пропуски можем смело заполнять нулями:"
   ]
  },
  {
   "cell_type": "code",
   "execution_count": 17,
   "metadata": {},
   "outputs": [],
   "source": [
    "df_users.loc[df_users['messages_count'].isna(), 'messages_count'] = 0\n",
    "df_users.loc[df_users['mb_used'].isna(), 'mb_used'] = 0\n",
    "df_users.loc[df_users['calls_count'].isna(), 'calls_count'] = 0\n",
    "df_users.loc[df_users['duration_calls'].isna(), 'duration_calls'] = 0"
   ]
  },
  {
   "cell_type": "markdown",
   "metadata": {},
   "source": [
    "После проделанных вычислений наши столбцы снова изменили тип, давайте вернём его обратно:"
   ]
  },
  {
   "cell_type": "code",
   "execution_count": 18,
   "metadata": {},
   "outputs": [],
   "source": [
    "df_users['messages_count'] = df_users['messages_count'].astype('int')\n",
    "df_users['mb_used'] = df_users['mb_used'].astype('int')\n",
    "df_users['calls_count'] = df_users['calls_count'].astype('int')\n",
    "df_users['duration_calls'] = df_users['duration_calls'].astype('int')"
   ]
  },
  {
   "cell_type": "markdown",
   "metadata": {},
   "source": [
    "Посмотрим, что получилось:"
   ]
  },
  {
   "cell_type": "code",
   "execution_count": 19,
   "metadata": {},
   "outputs": [
    {
     "data": {
      "text/html": [
       "<div>\n",
       "<style scoped>\n",
       "    .dataframe tbody tr th:only-of-type {\n",
       "        vertical-align: middle;\n",
       "    }\n",
       "\n",
       "    .dataframe tbody tr th {\n",
       "        vertical-align: top;\n",
       "    }\n",
       "\n",
       "    .dataframe thead th {\n",
       "        text-align: right;\n",
       "    }\n",
       "</style>\n",
       "<table border=\"1\" class=\"dataframe\">\n",
       "  <thead>\n",
       "    <tr style=\"text-align: right;\">\n",
       "      <th></th>\n",
       "      <th>user_id</th>\n",
       "      <th>age</th>\n",
       "      <th>churn_date</th>\n",
       "      <th>city</th>\n",
       "      <th>first_name</th>\n",
       "      <th>last_name</th>\n",
       "      <th>reg_date</th>\n",
       "      <th>tariff</th>\n",
       "      <th>month</th>\n",
       "      <th>messages_count</th>\n",
       "      <th>mb_used</th>\n",
       "      <th>calls_count</th>\n",
       "      <th>duration_calls</th>\n",
       "    </tr>\n",
       "  </thead>\n",
       "  <tbody>\n",
       "    <tr>\n",
       "      <td>0</td>\n",
       "      <td>1000</td>\n",
       "      <td>52</td>\n",
       "      <td>NaN</td>\n",
       "      <td>Краснодар</td>\n",
       "      <td>Рафаил</td>\n",
       "      <td>Верещагин</td>\n",
       "      <td>2018-05-25</td>\n",
       "      <td>ultra</td>\n",
       "      <td>5</td>\n",
       "      <td>22</td>\n",
       "      <td>2252</td>\n",
       "      <td>17</td>\n",
       "      <td>159</td>\n",
       "    </tr>\n",
       "    <tr>\n",
       "      <td>1</td>\n",
       "      <td>1000</td>\n",
       "      <td>52</td>\n",
       "      <td>NaN</td>\n",
       "      <td>Краснодар</td>\n",
       "      <td>Рафаил</td>\n",
       "      <td>Верещагин</td>\n",
       "      <td>2018-05-25</td>\n",
       "      <td>ultra</td>\n",
       "      <td>6</td>\n",
       "      <td>60</td>\n",
       "      <td>23213</td>\n",
       "      <td>28</td>\n",
       "      <td>172</td>\n",
       "    </tr>\n",
       "    <tr>\n",
       "      <td>2</td>\n",
       "      <td>1000</td>\n",
       "      <td>52</td>\n",
       "      <td>NaN</td>\n",
       "      <td>Краснодар</td>\n",
       "      <td>Рафаил</td>\n",
       "      <td>Верещагин</td>\n",
       "      <td>2018-05-25</td>\n",
       "      <td>ultra</td>\n",
       "      <td>7</td>\n",
       "      <td>75</td>\n",
       "      <td>13988</td>\n",
       "      <td>41</td>\n",
       "      <td>340</td>\n",
       "    </tr>\n",
       "    <tr>\n",
       "      <td>3</td>\n",
       "      <td>1000</td>\n",
       "      <td>52</td>\n",
       "      <td>NaN</td>\n",
       "      <td>Краснодар</td>\n",
       "      <td>Рафаил</td>\n",
       "      <td>Верещагин</td>\n",
       "      <td>2018-05-25</td>\n",
       "      <td>ultra</td>\n",
       "      <td>8</td>\n",
       "      <td>81</td>\n",
       "      <td>14043</td>\n",
       "      <td>42</td>\n",
       "      <td>408</td>\n",
       "    </tr>\n",
       "    <tr>\n",
       "      <td>4</td>\n",
       "      <td>1000</td>\n",
       "      <td>52</td>\n",
       "      <td>NaN</td>\n",
       "      <td>Краснодар</td>\n",
       "      <td>Рафаил</td>\n",
       "      <td>Верещагин</td>\n",
       "      <td>2018-05-25</td>\n",
       "      <td>ultra</td>\n",
       "      <td>9</td>\n",
       "      <td>57</td>\n",
       "      <td>14556</td>\n",
       "      <td>46</td>\n",
       "      <td>466</td>\n",
       "    </tr>\n",
       "    <tr>\n",
       "      <td>5</td>\n",
       "      <td>1000</td>\n",
       "      <td>52</td>\n",
       "      <td>NaN</td>\n",
       "      <td>Краснодар</td>\n",
       "      <td>Рафаил</td>\n",
       "      <td>Верещагин</td>\n",
       "      <td>2018-05-25</td>\n",
       "      <td>ultra</td>\n",
       "      <td>10</td>\n",
       "      <td>73</td>\n",
       "      <td>14690</td>\n",
       "      <td>44</td>\n",
       "      <td>350</td>\n",
       "    </tr>\n",
       "    <tr>\n",
       "      <td>6</td>\n",
       "      <td>1000</td>\n",
       "      <td>52</td>\n",
       "      <td>NaN</td>\n",
       "      <td>Краснодар</td>\n",
       "      <td>Рафаил</td>\n",
       "      <td>Верещагин</td>\n",
       "      <td>2018-05-25</td>\n",
       "      <td>ultra</td>\n",
       "      <td>11</td>\n",
       "      <td>58</td>\n",
       "      <td>14745</td>\n",
       "      <td>37</td>\n",
       "      <td>338</td>\n",
       "    </tr>\n",
       "    <tr>\n",
       "      <td>7</td>\n",
       "      <td>1000</td>\n",
       "      <td>52</td>\n",
       "      <td>NaN</td>\n",
       "      <td>Краснодар</td>\n",
       "      <td>Рафаил</td>\n",
       "      <td>Верещагин</td>\n",
       "      <td>2018-05-25</td>\n",
       "      <td>ultra</td>\n",
       "      <td>12</td>\n",
       "      <td>70</td>\n",
       "      <td>9808</td>\n",
       "      <td>38</td>\n",
       "      <td>333</td>\n",
       "    </tr>\n",
       "    <tr>\n",
       "      <td>8</td>\n",
       "      <td>1001</td>\n",
       "      <td>41</td>\n",
       "      <td>NaN</td>\n",
       "      <td>Москва</td>\n",
       "      <td>Иван</td>\n",
       "      <td>Ежов</td>\n",
       "      <td>2018-11-01</td>\n",
       "      <td>smart</td>\n",
       "      <td>11</td>\n",
       "      <td>0</td>\n",
       "      <td>18405</td>\n",
       "      <td>45</td>\n",
       "      <td>430</td>\n",
       "    </tr>\n",
       "    <tr>\n",
       "      <td>9</td>\n",
       "      <td>1001</td>\n",
       "      <td>41</td>\n",
       "      <td>NaN</td>\n",
       "      <td>Москва</td>\n",
       "      <td>Иван</td>\n",
       "      <td>Ежов</td>\n",
       "      <td>2018-11-01</td>\n",
       "      <td>smart</td>\n",
       "      <td>12</td>\n",
       "      <td>0</td>\n",
       "      <td>14018</td>\n",
       "      <td>47</td>\n",
       "      <td>414</td>\n",
       "    </tr>\n",
       "    <tr>\n",
       "      <td>10</td>\n",
       "      <td>1002</td>\n",
       "      <td>59</td>\n",
       "      <td>NaN</td>\n",
       "      <td>Стерлитамак</td>\n",
       "      <td>Евгений</td>\n",
       "      <td>Абрамович</td>\n",
       "      <td>2018-06-17</td>\n",
       "      <td>smart</td>\n",
       "      <td>6</td>\n",
       "      <td>4</td>\n",
       "      <td>10844</td>\n",
       "      <td>14</td>\n",
       "      <td>117</td>\n",
       "    </tr>\n",
       "    <tr>\n",
       "      <td>11</td>\n",
       "      <td>1002</td>\n",
       "      <td>59</td>\n",
       "      <td>NaN</td>\n",
       "      <td>Стерлитамак</td>\n",
       "      <td>Евгений</td>\n",
       "      <td>Абрамович</td>\n",
       "      <td>2018-06-17</td>\n",
       "      <td>smart</td>\n",
       "      <td>7</td>\n",
       "      <td>11</td>\n",
       "      <td>17557</td>\n",
       "      <td>21</td>\n",
       "      <td>214</td>\n",
       "    </tr>\n",
       "    <tr>\n",
       "      <td>12</td>\n",
       "      <td>1002</td>\n",
       "      <td>59</td>\n",
       "      <td>NaN</td>\n",
       "      <td>Стерлитамак</td>\n",
       "      <td>Евгений</td>\n",
       "      <td>Абрамович</td>\n",
       "      <td>2018-06-17</td>\n",
       "      <td>smart</td>\n",
       "      <td>8</td>\n",
       "      <td>13</td>\n",
       "      <td>20298</td>\n",
       "      <td>37</td>\n",
       "      <td>289</td>\n",
       "    </tr>\n",
       "    <tr>\n",
       "      <td>13</td>\n",
       "      <td>1002</td>\n",
       "      <td>59</td>\n",
       "      <td>NaN</td>\n",
       "      <td>Стерлитамак</td>\n",
       "      <td>Евгений</td>\n",
       "      <td>Абрамович</td>\n",
       "      <td>2018-06-17</td>\n",
       "      <td>smart</td>\n",
       "      <td>9</td>\n",
       "      <td>4</td>\n",
       "      <td>16669</td>\n",
       "      <td>25</td>\n",
       "      <td>206</td>\n",
       "    </tr>\n",
       "    <tr>\n",
       "      <td>14</td>\n",
       "      <td>1002</td>\n",
       "      <td>59</td>\n",
       "      <td>NaN</td>\n",
       "      <td>Стерлитамак</td>\n",
       "      <td>Евгений</td>\n",
       "      <td>Абрамович</td>\n",
       "      <td>2018-06-17</td>\n",
       "      <td>smart</td>\n",
       "      <td>10</td>\n",
       "      <td>10</td>\n",
       "      <td>13869</td>\n",
       "      <td>24</td>\n",
       "      <td>212</td>\n",
       "    </tr>\n",
       "    <tr>\n",
       "      <td>15</td>\n",
       "      <td>1002</td>\n",
       "      <td>59</td>\n",
       "      <td>NaN</td>\n",
       "      <td>Стерлитамак</td>\n",
       "      <td>Евгений</td>\n",
       "      <td>Абрамович</td>\n",
       "      <td>2018-06-17</td>\n",
       "      <td>smart</td>\n",
       "      <td>11</td>\n",
       "      <td>16</td>\n",
       "      <td>18566</td>\n",
       "      <td>25</td>\n",
       "      <td>243</td>\n",
       "    </tr>\n",
       "    <tr>\n",
       "      <td>16</td>\n",
       "      <td>1002</td>\n",
       "      <td>59</td>\n",
       "      <td>NaN</td>\n",
       "      <td>Стерлитамак</td>\n",
       "      <td>Евгений</td>\n",
       "      <td>Абрамович</td>\n",
       "      <td>2018-06-17</td>\n",
       "      <td>smart</td>\n",
       "      <td>12</td>\n",
       "      <td>12</td>\n",
       "      <td>18087</td>\n",
       "      <td>27</td>\n",
       "      <td>236</td>\n",
       "    </tr>\n",
       "    <tr>\n",
       "      <td>17</td>\n",
       "      <td>1003</td>\n",
       "      <td>23</td>\n",
       "      <td>NaN</td>\n",
       "      <td>Москва</td>\n",
       "      <td>Белла</td>\n",
       "      <td>Белякова</td>\n",
       "      <td>2018-08-17</td>\n",
       "      <td>ultra</td>\n",
       "      <td>8</td>\n",
       "      <td>37</td>\n",
       "      <td>8557</td>\n",
       "      <td>43</td>\n",
       "      <td>380</td>\n",
       "    </tr>\n",
       "    <tr>\n",
       "      <td>18</td>\n",
       "      <td>1003</td>\n",
       "      <td>23</td>\n",
       "      <td>NaN</td>\n",
       "      <td>Москва</td>\n",
       "      <td>Белла</td>\n",
       "      <td>Белякова</td>\n",
       "      <td>2018-08-17</td>\n",
       "      <td>ultra</td>\n",
       "      <td>9</td>\n",
       "      <td>91</td>\n",
       "      <td>12457</td>\n",
       "      <td>105</td>\n",
       "      <td>961</td>\n",
       "    </tr>\n",
       "    <tr>\n",
       "      <td>19</td>\n",
       "      <td>1003</td>\n",
       "      <td>23</td>\n",
       "      <td>NaN</td>\n",
       "      <td>Москва</td>\n",
       "      <td>Белла</td>\n",
       "      <td>Белякова</td>\n",
       "      <td>2018-08-17</td>\n",
       "      <td>ultra</td>\n",
       "      <td>10</td>\n",
       "      <td>83</td>\n",
       "      <td>14754</td>\n",
       "      <td>97</td>\n",
       "      <td>855</td>\n",
       "    </tr>\n",
       "    <tr>\n",
       "      <td>20</td>\n",
       "      <td>1003</td>\n",
       "      <td>23</td>\n",
       "      <td>NaN</td>\n",
       "      <td>Москва</td>\n",
       "      <td>Белла</td>\n",
       "      <td>Белякова</td>\n",
       "      <td>2018-08-17</td>\n",
       "      <td>ultra</td>\n",
       "      <td>11</td>\n",
       "      <td>94</td>\n",
       "      <td>11348</td>\n",
       "      <td>95</td>\n",
       "      <td>824</td>\n",
       "    </tr>\n",
       "    <tr>\n",
       "      <td>21</td>\n",
       "      <td>1003</td>\n",
       "      <td>23</td>\n",
       "      <td>NaN</td>\n",
       "      <td>Москва</td>\n",
       "      <td>Белла</td>\n",
       "      <td>Белякова</td>\n",
       "      <td>2018-08-17</td>\n",
       "      <td>ultra</td>\n",
       "      <td>12</td>\n",
       "      <td>75</td>\n",
       "      <td>10111</td>\n",
       "      <td>88</td>\n",
       "      <td>802</td>\n",
       "    </tr>\n",
       "    <tr>\n",
       "      <td>22</td>\n",
       "      <td>1004</td>\n",
       "      <td>68</td>\n",
       "      <td>NaN</td>\n",
       "      <td>Новокузнецк</td>\n",
       "      <td>Татьяна</td>\n",
       "      <td>Авдеенко</td>\n",
       "      <td>2018-05-14</td>\n",
       "      <td>ultra</td>\n",
       "      <td>5</td>\n",
       "      <td>95</td>\n",
       "      <td>13392</td>\n",
       "      <td>7</td>\n",
       "      <td>35</td>\n",
       "    </tr>\n",
       "    <tr>\n",
       "      <td>23</td>\n",
       "      <td>1004</td>\n",
       "      <td>68</td>\n",
       "      <td>NaN</td>\n",
       "      <td>Новокузнецк</td>\n",
       "      <td>Татьяна</td>\n",
       "      <td>Авдеенко</td>\n",
       "      <td>2018-05-14</td>\n",
       "      <td>ultra</td>\n",
       "      <td>6</td>\n",
       "      <td>134</td>\n",
       "      <td>17586</td>\n",
       "      <td>25</td>\n",
       "      <td>171</td>\n",
       "    </tr>\n",
       "    <tr>\n",
       "      <td>24</td>\n",
       "      <td>1004</td>\n",
       "      <td>68</td>\n",
       "      <td>NaN</td>\n",
       "      <td>Новокузнецк</td>\n",
       "      <td>Татьяна</td>\n",
       "      <td>Авдеенко</td>\n",
       "      <td>2018-05-14</td>\n",
       "      <td>ultra</td>\n",
       "      <td>7</td>\n",
       "      <td>181</td>\n",
       "      <td>22211</td>\n",
       "      <td>20</td>\n",
       "      <td>135</td>\n",
       "    </tr>\n",
       "    <tr>\n",
       "      <td>25</td>\n",
       "      <td>1004</td>\n",
       "      <td>68</td>\n",
       "      <td>NaN</td>\n",
       "      <td>Новокузнецк</td>\n",
       "      <td>Татьяна</td>\n",
       "      <td>Авдеенко</td>\n",
       "      <td>2018-05-14</td>\n",
       "      <td>ultra</td>\n",
       "      <td>8</td>\n",
       "      <td>151</td>\n",
       "      <td>28558</td>\n",
       "      <td>18</td>\n",
       "      <td>137</td>\n",
       "    </tr>\n",
       "    <tr>\n",
       "      <td>26</td>\n",
       "      <td>1004</td>\n",
       "      <td>68</td>\n",
       "      <td>NaN</td>\n",
       "      <td>Новокузнецк</td>\n",
       "      <td>Татьяна</td>\n",
       "      <td>Авдеенко</td>\n",
       "      <td>2018-05-14</td>\n",
       "      <td>ultra</td>\n",
       "      <td>9</td>\n",
       "      <td>146</td>\n",
       "      <td>15093</td>\n",
       "      <td>18</td>\n",
       "      <td>117</td>\n",
       "    </tr>\n",
       "    <tr>\n",
       "      <td>27</td>\n",
       "      <td>1004</td>\n",
       "      <td>68</td>\n",
       "      <td>NaN</td>\n",
       "      <td>Новокузнецк</td>\n",
       "      <td>Татьяна</td>\n",
       "      <td>Авдеенко</td>\n",
       "      <td>2018-05-14</td>\n",
       "      <td>ultra</td>\n",
       "      <td>10</td>\n",
       "      <td>165</td>\n",
       "      <td>18457</td>\n",
       "      <td>21</td>\n",
       "      <td>145</td>\n",
       "    </tr>\n",
       "    <tr>\n",
       "      <td>28</td>\n",
       "      <td>1004</td>\n",
       "      <td>68</td>\n",
       "      <td>NaN</td>\n",
       "      <td>Новокузнецк</td>\n",
       "      <td>Татьяна</td>\n",
       "      <td>Авдеенко</td>\n",
       "      <td>2018-05-14</td>\n",
       "      <td>ultra</td>\n",
       "      <td>11</td>\n",
       "      <td>158</td>\n",
       "      <td>15598</td>\n",
       "      <td>15</td>\n",
       "      <td>117</td>\n",
       "    </tr>\n",
       "    <tr>\n",
       "      <td>29</td>\n",
       "      <td>1004</td>\n",
       "      <td>68</td>\n",
       "      <td>NaN</td>\n",
       "      <td>Новокузнецк</td>\n",
       "      <td>Татьяна</td>\n",
       "      <td>Авдеенко</td>\n",
       "      <td>2018-05-14</td>\n",
       "      <td>ultra</td>\n",
       "      <td>12</td>\n",
       "      <td>162</td>\n",
       "      <td>18002</td>\n",
       "      <td>15</td>\n",
       "      <td>130</td>\n",
       "    </tr>\n",
       "  </tbody>\n",
       "</table>\n",
       "</div>"
      ],
      "text/plain": [
       "    user_id  age churn_date         city first_name  last_name   reg_date  \\\n",
       "0      1000   52        NaN    Краснодар     Рафаил  Верещагин 2018-05-25   \n",
       "1      1000   52        NaN    Краснодар     Рафаил  Верещагин 2018-05-25   \n",
       "2      1000   52        NaN    Краснодар     Рафаил  Верещагин 2018-05-25   \n",
       "3      1000   52        NaN    Краснодар     Рафаил  Верещагин 2018-05-25   \n",
       "4      1000   52        NaN    Краснодар     Рафаил  Верещагин 2018-05-25   \n",
       "5      1000   52        NaN    Краснодар     Рафаил  Верещагин 2018-05-25   \n",
       "6      1000   52        NaN    Краснодар     Рафаил  Верещагин 2018-05-25   \n",
       "7      1000   52        NaN    Краснодар     Рафаил  Верещагин 2018-05-25   \n",
       "8      1001   41        NaN       Москва       Иван       Ежов 2018-11-01   \n",
       "9      1001   41        NaN       Москва       Иван       Ежов 2018-11-01   \n",
       "10     1002   59        NaN  Стерлитамак    Евгений  Абрамович 2018-06-17   \n",
       "11     1002   59        NaN  Стерлитамак    Евгений  Абрамович 2018-06-17   \n",
       "12     1002   59        NaN  Стерлитамак    Евгений  Абрамович 2018-06-17   \n",
       "13     1002   59        NaN  Стерлитамак    Евгений  Абрамович 2018-06-17   \n",
       "14     1002   59        NaN  Стерлитамак    Евгений  Абрамович 2018-06-17   \n",
       "15     1002   59        NaN  Стерлитамак    Евгений  Абрамович 2018-06-17   \n",
       "16     1002   59        NaN  Стерлитамак    Евгений  Абрамович 2018-06-17   \n",
       "17     1003   23        NaN       Москва      Белла   Белякова 2018-08-17   \n",
       "18     1003   23        NaN       Москва      Белла   Белякова 2018-08-17   \n",
       "19     1003   23        NaN       Москва      Белла   Белякова 2018-08-17   \n",
       "20     1003   23        NaN       Москва      Белла   Белякова 2018-08-17   \n",
       "21     1003   23        NaN       Москва      Белла   Белякова 2018-08-17   \n",
       "22     1004   68        NaN  Новокузнецк    Татьяна   Авдеенко 2018-05-14   \n",
       "23     1004   68        NaN  Новокузнецк    Татьяна   Авдеенко 2018-05-14   \n",
       "24     1004   68        NaN  Новокузнецк    Татьяна   Авдеенко 2018-05-14   \n",
       "25     1004   68        NaN  Новокузнецк    Татьяна   Авдеенко 2018-05-14   \n",
       "26     1004   68        NaN  Новокузнецк    Татьяна   Авдеенко 2018-05-14   \n",
       "27     1004   68        NaN  Новокузнецк    Татьяна   Авдеенко 2018-05-14   \n",
       "28     1004   68        NaN  Новокузнецк    Татьяна   Авдеенко 2018-05-14   \n",
       "29     1004   68        NaN  Новокузнецк    Татьяна   Авдеенко 2018-05-14   \n",
       "\n",
       "   tariff  month  messages_count  mb_used  calls_count  duration_calls  \n",
       "0   ultra      5              22     2252           17             159  \n",
       "1   ultra      6              60    23213           28             172  \n",
       "2   ultra      7              75    13988           41             340  \n",
       "3   ultra      8              81    14043           42             408  \n",
       "4   ultra      9              57    14556           46             466  \n",
       "5   ultra     10              73    14690           44             350  \n",
       "6   ultra     11              58    14745           37             338  \n",
       "7   ultra     12              70     9808           38             333  \n",
       "8   smart     11               0    18405           45             430  \n",
       "9   smart     12               0    14018           47             414  \n",
       "10  smart      6               4    10844           14             117  \n",
       "11  smart      7              11    17557           21             214  \n",
       "12  smart      8              13    20298           37             289  \n",
       "13  smart      9               4    16669           25             206  \n",
       "14  smart     10              10    13869           24             212  \n",
       "15  smart     11              16    18566           25             243  \n",
       "16  smart     12              12    18087           27             236  \n",
       "17  ultra      8              37     8557           43             380  \n",
       "18  ultra      9              91    12457          105             961  \n",
       "19  ultra     10              83    14754           97             855  \n",
       "20  ultra     11              94    11348           95             824  \n",
       "21  ultra     12              75    10111           88             802  \n",
       "22  ultra      5              95    13392            7              35  \n",
       "23  ultra      6             134    17586           25             171  \n",
       "24  ultra      7             181    22211           20             135  \n",
       "25  ultra      8             151    28558           18             137  \n",
       "26  ultra      9             146    15093           18             117  \n",
       "27  ultra     10             165    18457           21             145  \n",
       "28  ultra     11             158    15598           15             117  \n",
       "29  ultra     12             162    18002           15             130  "
      ]
     },
     "execution_count": 19,
     "metadata": {},
     "output_type": "execute_result"
    }
   ],
   "source": [
    "df_users.head(30)"
   ]
  },
  {
   "cell_type": "markdown",
   "metadata": {},
   "source": [
    "#### Выручка"
   ]
  },
  {
   "cell_type": "markdown",
   "metadata": {},
   "source": [
    "Теперь давайте рассчитаем помесячную выручку с каждого пользователя, для этого напишем функцию:"
   ]
  },
  {
   "cell_type": "code",
   "execution_count": 20,
   "metadata": {},
   "outputs": [],
   "source": [
    "def get_income(row):\n",
    "    \"\"\" Рассчитывает и возвращает выручку за определённый месяц,\n",
    "        на вход принимает строку таблицы.\n",
    "    \"\"\"\n",
    "    # вычисляем тариф и связаные с тарифом стоимости услуг\n",
    "    tariff = df_tariffs[df_tariffs['tariff_name'] == row['tariff']]\n",
    "    rub_monthly = tariff['rub_monthly_fee']\n",
    "    rub_per_gb = tariff['rub_per_gb']\n",
    "    rub_per_message = tariff['rub_per_message']\n",
    "    rub_per_minute = tariff['rub_per_minute']\n",
    "    minutes = tariff['minutes_included']\n",
    "    mb_per_month = tariff['mb_per_month_included']\n",
    "    messages = tariff['messages_included']\n",
    "    # статистика за месяц пользования\n",
    "    messages_count = row['messages_count']\n",
    "    mb_used = row['mb_used']\n",
    "    minutes_count = row['duration_calls']\n",
    "    # считаем результат\n",
    "    minutes_rub = (minutes_count - minutes) * rub_per_minute if (minutes_count > minutes).bool() else 0\n",
    "    gigabytes_rub = np.ceil((mb_used - mb_per_month) / 1024) * rub_per_gb if (mb_used > mb_per_month).bool() else 0\n",
    "    messages_rub = (messages_count - messages) * rub_per_message if (messages_count > messages).bool() else 0\n",
    "    return int(rub_monthly) + int(minutes_rub) + int(gigabytes_rub) + int(messages_rub)"
   ]
  },
  {
   "cell_type": "markdown",
   "metadata": {},
   "source": [
    "Добавим доходность по каждому месяцу в таблицу:"
   ]
  },
  {
   "cell_type": "code",
   "execution_count": 21,
   "metadata": {},
   "outputs": [],
   "source": [
    "df_users['income'] = df_users.apply(get_income, axis=1)"
   ]
  },
  {
   "cell_type": "markdown",
   "metadata": {},
   "source": [
    "Посмотрим первые десять строчек таблицы, чтобы проверить проделанную работу:"
   ]
  },
  {
   "cell_type": "code",
   "execution_count": 22,
   "metadata": {},
   "outputs": [
    {
     "data": {
      "text/html": [
       "<div>\n",
       "<style scoped>\n",
       "    .dataframe tbody tr th:only-of-type {\n",
       "        vertical-align: middle;\n",
       "    }\n",
       "\n",
       "    .dataframe tbody tr th {\n",
       "        vertical-align: top;\n",
       "    }\n",
       "\n",
       "    .dataframe thead th {\n",
       "        text-align: right;\n",
       "    }\n",
       "</style>\n",
       "<table border=\"1\" class=\"dataframe\">\n",
       "  <thead>\n",
       "    <tr style=\"text-align: right;\">\n",
       "      <th></th>\n",
       "      <th>user_id</th>\n",
       "      <th>age</th>\n",
       "      <th>churn_date</th>\n",
       "      <th>city</th>\n",
       "      <th>first_name</th>\n",
       "      <th>last_name</th>\n",
       "      <th>reg_date</th>\n",
       "      <th>tariff</th>\n",
       "      <th>month</th>\n",
       "      <th>messages_count</th>\n",
       "      <th>mb_used</th>\n",
       "      <th>calls_count</th>\n",
       "      <th>duration_calls</th>\n",
       "      <th>income</th>\n",
       "    </tr>\n",
       "  </thead>\n",
       "  <tbody>\n",
       "    <tr>\n",
       "      <td>0</td>\n",
       "      <td>1000</td>\n",
       "      <td>52</td>\n",
       "      <td>NaN</td>\n",
       "      <td>Краснодар</td>\n",
       "      <td>Рафаил</td>\n",
       "      <td>Верещагин</td>\n",
       "      <td>2018-05-25</td>\n",
       "      <td>ultra</td>\n",
       "      <td>5</td>\n",
       "      <td>22</td>\n",
       "      <td>2252</td>\n",
       "      <td>17</td>\n",
       "      <td>159</td>\n",
       "      <td>1950</td>\n",
       "    </tr>\n",
       "    <tr>\n",
       "      <td>1</td>\n",
       "      <td>1000</td>\n",
       "      <td>52</td>\n",
       "      <td>NaN</td>\n",
       "      <td>Краснодар</td>\n",
       "      <td>Рафаил</td>\n",
       "      <td>Верещагин</td>\n",
       "      <td>2018-05-25</td>\n",
       "      <td>ultra</td>\n",
       "      <td>6</td>\n",
       "      <td>60</td>\n",
       "      <td>23213</td>\n",
       "      <td>28</td>\n",
       "      <td>172</td>\n",
       "      <td>1950</td>\n",
       "    </tr>\n",
       "    <tr>\n",
       "      <td>2</td>\n",
       "      <td>1000</td>\n",
       "      <td>52</td>\n",
       "      <td>NaN</td>\n",
       "      <td>Краснодар</td>\n",
       "      <td>Рафаил</td>\n",
       "      <td>Верещагин</td>\n",
       "      <td>2018-05-25</td>\n",
       "      <td>ultra</td>\n",
       "      <td>7</td>\n",
       "      <td>75</td>\n",
       "      <td>13988</td>\n",
       "      <td>41</td>\n",
       "      <td>340</td>\n",
       "      <td>1950</td>\n",
       "    </tr>\n",
       "    <tr>\n",
       "      <td>3</td>\n",
       "      <td>1000</td>\n",
       "      <td>52</td>\n",
       "      <td>NaN</td>\n",
       "      <td>Краснодар</td>\n",
       "      <td>Рафаил</td>\n",
       "      <td>Верещагин</td>\n",
       "      <td>2018-05-25</td>\n",
       "      <td>ultra</td>\n",
       "      <td>8</td>\n",
       "      <td>81</td>\n",
       "      <td>14043</td>\n",
       "      <td>42</td>\n",
       "      <td>408</td>\n",
       "      <td>1950</td>\n",
       "    </tr>\n",
       "    <tr>\n",
       "      <td>4</td>\n",
       "      <td>1000</td>\n",
       "      <td>52</td>\n",
       "      <td>NaN</td>\n",
       "      <td>Краснодар</td>\n",
       "      <td>Рафаил</td>\n",
       "      <td>Верещагин</td>\n",
       "      <td>2018-05-25</td>\n",
       "      <td>ultra</td>\n",
       "      <td>9</td>\n",
       "      <td>57</td>\n",
       "      <td>14556</td>\n",
       "      <td>46</td>\n",
       "      <td>466</td>\n",
       "      <td>1950</td>\n",
       "    </tr>\n",
       "    <tr>\n",
       "      <td>5</td>\n",
       "      <td>1000</td>\n",
       "      <td>52</td>\n",
       "      <td>NaN</td>\n",
       "      <td>Краснодар</td>\n",
       "      <td>Рафаил</td>\n",
       "      <td>Верещагин</td>\n",
       "      <td>2018-05-25</td>\n",
       "      <td>ultra</td>\n",
       "      <td>10</td>\n",
       "      <td>73</td>\n",
       "      <td>14690</td>\n",
       "      <td>44</td>\n",
       "      <td>350</td>\n",
       "      <td>1950</td>\n",
       "    </tr>\n",
       "    <tr>\n",
       "      <td>6</td>\n",
       "      <td>1000</td>\n",
       "      <td>52</td>\n",
       "      <td>NaN</td>\n",
       "      <td>Краснодар</td>\n",
       "      <td>Рафаил</td>\n",
       "      <td>Верещагин</td>\n",
       "      <td>2018-05-25</td>\n",
       "      <td>ultra</td>\n",
       "      <td>11</td>\n",
       "      <td>58</td>\n",
       "      <td>14745</td>\n",
       "      <td>37</td>\n",
       "      <td>338</td>\n",
       "      <td>1950</td>\n",
       "    </tr>\n",
       "    <tr>\n",
       "      <td>7</td>\n",
       "      <td>1000</td>\n",
       "      <td>52</td>\n",
       "      <td>NaN</td>\n",
       "      <td>Краснодар</td>\n",
       "      <td>Рафаил</td>\n",
       "      <td>Верещагин</td>\n",
       "      <td>2018-05-25</td>\n",
       "      <td>ultra</td>\n",
       "      <td>12</td>\n",
       "      <td>70</td>\n",
       "      <td>9808</td>\n",
       "      <td>38</td>\n",
       "      <td>333</td>\n",
       "      <td>1950</td>\n",
       "    </tr>\n",
       "    <tr>\n",
       "      <td>8</td>\n",
       "      <td>1001</td>\n",
       "      <td>41</td>\n",
       "      <td>NaN</td>\n",
       "      <td>Москва</td>\n",
       "      <td>Иван</td>\n",
       "      <td>Ежов</td>\n",
       "      <td>2018-11-01</td>\n",
       "      <td>smart</td>\n",
       "      <td>11</td>\n",
       "      <td>0</td>\n",
       "      <td>18405</td>\n",
       "      <td>45</td>\n",
       "      <td>430</td>\n",
       "      <td>1150</td>\n",
       "    </tr>\n",
       "    <tr>\n",
       "      <td>9</td>\n",
       "      <td>1001</td>\n",
       "      <td>41</td>\n",
       "      <td>NaN</td>\n",
       "      <td>Москва</td>\n",
       "      <td>Иван</td>\n",
       "      <td>Ежов</td>\n",
       "      <td>2018-11-01</td>\n",
       "      <td>smart</td>\n",
       "      <td>12</td>\n",
       "      <td>0</td>\n",
       "      <td>14018</td>\n",
       "      <td>47</td>\n",
       "      <td>414</td>\n",
       "      <td>550</td>\n",
       "    </tr>\n",
       "  </tbody>\n",
       "</table>\n",
       "</div>"
      ],
      "text/plain": [
       "   user_id  age churn_date       city first_name  last_name   reg_date tariff  \\\n",
       "0     1000   52        NaN  Краснодар     Рафаил  Верещагин 2018-05-25  ultra   \n",
       "1     1000   52        NaN  Краснодар     Рафаил  Верещагин 2018-05-25  ultra   \n",
       "2     1000   52        NaN  Краснодар     Рафаил  Верещагин 2018-05-25  ultra   \n",
       "3     1000   52        NaN  Краснодар     Рафаил  Верещагин 2018-05-25  ultra   \n",
       "4     1000   52        NaN  Краснодар     Рафаил  Верещагин 2018-05-25  ultra   \n",
       "5     1000   52        NaN  Краснодар     Рафаил  Верещагин 2018-05-25  ultra   \n",
       "6     1000   52        NaN  Краснодар     Рафаил  Верещагин 2018-05-25  ultra   \n",
       "7     1000   52        NaN  Краснодар     Рафаил  Верещагин 2018-05-25  ultra   \n",
       "8     1001   41        NaN     Москва       Иван       Ежов 2018-11-01  smart   \n",
       "9     1001   41        NaN     Москва       Иван       Ежов 2018-11-01  smart   \n",
       "\n",
       "   month  messages_count  mb_used  calls_count  duration_calls  income  \n",
       "0      5              22     2252           17             159    1950  \n",
       "1      6              60    23213           28             172    1950  \n",
       "2      7              75    13988           41             340    1950  \n",
       "3      8              81    14043           42             408    1950  \n",
       "4      9              57    14556           46             466    1950  \n",
       "5     10              73    14690           44             350    1950  \n",
       "6     11              58    14745           37             338    1950  \n",
       "7     12              70     9808           38             333    1950  \n",
       "8     11               0    18405           45             430    1150  \n",
       "9     12               0    14018           47             414     550  "
      ]
     },
     "execution_count": 22,
     "metadata": {},
     "output_type": "execute_result"
    }
   ],
   "source": [
    "df_users.head(10)"
   ]
  },
  {
   "cell_type": "markdown",
   "metadata": {},
   "source": [
    "## Анализ результатов"
   ]
  },
  {
   "cell_type": "markdown",
   "metadata": {},
   "source": [
    "Давайте посчитаем для каждого тарифа в месяц среднее значение, стандартное отклонение и дисперсию для количества сообщений, длины звонков и использованного трафика:"
   ]
  },
  {
   "cell_type": "code",
   "execution_count": 23,
   "metadata": {
    "scrolled": true
   },
   "outputs": [
    {
     "data": {
      "text/html": [
       "<div>\n",
       "<style scoped>\n",
       "    .dataframe tbody tr th:only-of-type {\n",
       "        vertical-align: middle;\n",
       "    }\n",
       "\n",
       "    .dataframe tbody tr th {\n",
       "        vertical-align: top;\n",
       "    }\n",
       "\n",
       "    .dataframe thead tr th {\n",
       "        text-align: left;\n",
       "    }\n",
       "\n",
       "    .dataframe thead tr:last-of-type th {\n",
       "        text-align: right;\n",
       "    }\n",
       "</style>\n",
       "<table border=\"1\" class=\"dataframe\">\n",
       "  <thead>\n",
       "    <tr>\n",
       "      <th></th>\n",
       "      <th colspan=\"3\" halign=\"left\">mean</th>\n",
       "      <th colspan=\"3\" halign=\"left\">var</th>\n",
       "      <th colspan=\"3\" halign=\"left\">std</th>\n",
       "    </tr>\n",
       "    <tr>\n",
       "      <th></th>\n",
       "      <th>duration_calls</th>\n",
       "      <th>mb_used</th>\n",
       "      <th>messages_count</th>\n",
       "      <th>duration_calls</th>\n",
       "      <th>mb_used</th>\n",
       "      <th>messages_count</th>\n",
       "      <th>duration_calls</th>\n",
       "      <th>mb_used</th>\n",
       "      <th>messages_count</th>\n",
       "    </tr>\n",
       "    <tr>\n",
       "      <th>tariff</th>\n",
       "      <th></th>\n",
       "      <th></th>\n",
       "      <th></th>\n",
       "      <th></th>\n",
       "      <th></th>\n",
       "      <th></th>\n",
       "      <th></th>\n",
       "      <th></th>\n",
       "      <th></th>\n",
       "    </tr>\n",
       "  </thead>\n",
       "  <tbody>\n",
       "    <tr>\n",
       "      <td>smart</td>\n",
       "      <td>417.934948</td>\n",
       "      <td>16187.578735</td>\n",
       "      <td>33.384029</td>\n",
       "      <td>36219.315784</td>\n",
       "      <td>3.437981e+07</td>\n",
       "      <td>796.812958</td>\n",
       "      <td>190.313730</td>\n",
       "      <td>5863.430302</td>\n",
       "      <td>28.227876</td>\n",
       "    </tr>\n",
       "    <tr>\n",
       "      <td>ultra</td>\n",
       "      <td>526.623350</td>\n",
       "      <td>19450.643655</td>\n",
       "      <td>49.363452</td>\n",
       "      <td>100873.633397</td>\n",
       "      <td>1.015661e+08</td>\n",
       "      <td>2285.266143</td>\n",
       "      <td>317.606098</td>\n",
       "      <td>10077.999744</td>\n",
       "      <td>47.804457</td>\n",
       "    </tr>\n",
       "  </tbody>\n",
       "</table>\n",
       "</div>"
      ],
      "text/plain": [
       "                 mean                                         var  \\\n",
       "       duration_calls       mb_used messages_count duration_calls   \n",
       "tariff                                                              \n",
       "smart      417.934948  16187.578735      33.384029   36219.315784   \n",
       "ultra      526.623350  19450.643655      49.363452  100873.633397   \n",
       "\n",
       "                                               std                \\\n",
       "             mb_used messages_count duration_calls       mb_used   \n",
       "tariff                                                             \n",
       "smart   3.437981e+07     796.812958     190.313730   5863.430302   \n",
       "ultra   1.015661e+08    2285.266143     317.606098  10077.999744   \n",
       "\n",
       "                       \n",
       "       messages_count  \n",
       "tariff                 \n",
       "smart       28.227876  \n",
       "ultra       47.804457  "
      ]
     },
     "execution_count": 23,
     "metadata": {},
     "output_type": "execute_result"
    }
   ],
   "source": [
    "month_statistics = df_users.pivot_table(\n",
    "    index='tariff',\n",
    "    values=['messages_count', 'duration_calls', 'mb_used'],\n",
    "    aggfunc=['mean', 'var', 'std']\n",
    ")\n",
    "month_statistics"
   ]
  },
  {
   "cell_type": "markdown",
   "metadata": {},
   "source": [
    "Переименуем столбцы для удобства:"
   ]
  },
  {
   "cell_type": "code",
   "execution_count": 24,
   "metadata": {},
   "outputs": [],
   "source": [
    "month_statistics.columns = [\n",
    "    'mean_duration_calls', 'mean_mb_used', 'mean_messages_count',\n",
    "    'var_duration_calls', 'var_mb_used', 'var_messages_count',\n",
    "    'std_duration_calls', 'std_mb_used', 'std_messages_count',\n",
    "]"
   ]
  },
  {
   "cell_type": "markdown",
   "metadata": {},
   "source": [
    "Посчитаем насколько процентнов средние значения в тарифе Ultra превышают тариф Smart:"
   ]
  },
  {
   "cell_type": "code",
   "execution_count": 25,
   "metadata": {},
   "outputs": [
    {
     "name": "stdout",
     "output_type": "stream",
     "text": [
      "Ultra mean_messages_count exceed smart about: 32.37%\n",
      "Ultra mean_duration_calls exceed smart about: 20.64%\n",
      "Ultra mean_mb_used exceed smart about: 16.78%\n"
     ]
    }
   ],
   "source": [
    "difference_percentage = (\n",
    "    1 - month_statistics.loc['smart', 'mean_messages_count']\n",
    "    / month_statistics.loc['ultra', 'mean_messages_count']\n",
    ")\n",
    "print(f'Ultra mean_messages_count exceed smart about: {difference_percentage:.2%}')\n",
    "difference_percentage = (\n",
    "    1 - month_statistics.loc['smart', 'mean_duration_calls']\n",
    "    / month_statistics.loc['ultra', 'mean_duration_calls']\n",
    ")\n",
    "print(f'Ultra mean_duration_calls exceed smart about: {difference_percentage:.2%}')\n",
    "difference_percentage = (\n",
    "    1 - month_statistics.loc['smart', 'mean_mb_used']\n",
    "    / month_statistics.loc['ultra', 'mean_mb_used']\n",
    ")\n",
    "print(f'Ultra mean_mb_used exceed smart about: {difference_percentage:.2%}')"
   ]
  },
  {
   "cell_type": "markdown",
   "metadata": {},
   "source": [
    "Чтобы было удобно работать с каждым из тарифов давайте сделаем на них ссылки:"
   ]
  },
  {
   "cell_type": "code",
   "execution_count": 26,
   "metadata": {},
   "outputs": [],
   "source": [
    "df_smart = df_users.query('tariff == \"smart\"')\n",
    "df_ultra = df_users.query('tariff == \"ultra\"')"
   ]
  },
  {
   "cell_type": "markdown",
   "metadata": {},
   "source": [
    "Давайте построим гистограммы, начнём с того, что сравним сколько сообщений отправляют пользователи обоих тарифов:"
   ]
  },
  {
   "cell_type": "code",
   "execution_count": 27,
   "metadata": {},
   "outputs": [
    {
     "data": {
      "text/plain": [
       "<matplotlib.legend.Legend at 0x7f320b53c290>"
      ]
     },
     "execution_count": 27,
     "metadata": {},
     "output_type": "execute_result"
    },
    {
     "data": {
      "image/png": "[encoded data removed]",
      "text/plain": [
       "<Figure size 792x432 with 1 Axes>"
      ]
     },
     "metadata": {
      "needs_background": "light"
     },
     "output_type": "display_data"
    }
   ],
   "source": [
    "ax = df_smart['messages_count'].plot(\n",
    "    kind='hist', bins=30, histtype='step', linewidth=3, density=True,\n",
    ")\n",
    "ax.set_xlabel('Messages')\n",
    "ax.set_xticks([tick for tick in range(0, 250, 25)])\n",
    "df_ultra['messages_count'].plot(\n",
    "    kind='hist', bins=30, histtype='step', linewidth=3,\n",
    "    title='Messagess count Smart / Ultra', figsize=(11, 6),\n",
    "    alpha=0.7, legend=True, grid=True, density=True, ax=ax,\n",
    ")\n",
    "plt.legend(['Smart', 'Ultra'])"
   ]
  },
  {
   "cell_type": "markdown",
   "metadata": {},
   "source": [
    "Сравним сколько минут в месяц пользователи тратят:"
   ]
  },
  {
   "cell_type": "code",
   "execution_count": 28,
   "metadata": {},
   "outputs": [
    {
     "data": {
      "image/png": "[encoded data removed]",
      "text/plain": [
       "<Figure size 792x432 with 1 Axes>"
      ]
     },
     "metadata": {
      "needs_background": "light"
     },
     "output_type": "display_data"
    }
   ],
   "source": [
    "ax = df_smart['duration_calls'].plot(\n",
    "    kind='hist', bins=30, histtype='step', linewidth=3, density=True,\n",
    ")\n",
    "ax.set_xlabel('Duration')\n",
    "ax.set_xticks([tick for tick in range(0, 1750, 125)])\n",
    "df_ultra['duration_calls'].plot(\n",
    "    kind='hist', bins=30, histtype='step', linewidth=3,\n",
    "    title='Duration calls Smart / Ultra', figsize=(11, 6),\n",
    "    alpha=0.7, legend=True, grid=True, density=True, ax=ax,\n",
    ")\n",
    "plt.legend(['Smart', 'Ultra'])\n",
    "plt.gca().xaxis.set_major_formatter(mticker.FormatStrFormatter(r'%dmn'))"
   ]
  },
  {
   "cell_type": "markdown",
   "metadata": {},
   "source": [
    "Сравним сколько тратят трафика пользователи обоих тарифов:"
   ]
  },
  {
   "cell_type": "code",
   "execution_count": 29,
   "metadata": {
    "scrolled": false
   },
   "outputs": [
    {
     "data": {
      "image/png": "[encoded data removed]",
      "text/plain": [
       "<Figure size 792x432 with 1 Axes>"
      ]
     },
     "metadata": {
      "needs_background": "light"
     },
     "output_type": "display_data"
    }
   ],
   "source": [
    "ax = df_smart['mb_used'].plot(\n",
    "    kind='hist', bins=30, histtype='step', linewidth=3, density=True,\n",
    ")\n",
    "ax.set_xlabel('Megabytes')\n",
    "ax.set_xticks([tick for tick in range(0, 50000, 5000)])\n",
    "df_ultra['mb_used'].plot(\n",
    "    kind='hist', bins=30, histtype='step', linewidth=3,\n",
    "    title='Megabytes used Smart / Ultra', figsize=(11, 6),\n",
    "    alpha=0.7, legend=True, grid=True, density=True, ax=ax,\n",
    ")\n",
    "plt.legend(['Smart', 'Ultra'])\n",
    "plt.gca().xaxis.set_major_formatter(mticker.FormatStrFormatter(r'%d mb'))"
   ]
  },
  {
   "cell_type": "markdown",
   "metadata": {},
   "source": [
    "**Вывод**\n",
    "\n",
    "В среднем в месяц пользователи тарифа Ultra тратят на 32% больше сообщений, чем пользователи Smart. Такую же картину мы наблюдаем и с звонками, и с потраченным трафиком: на 21% больше у пользователей Ultra длительность звонков и на 17% больше потраченно мегабайт.\n",
    "\n",
    "Стандартное отклонение и дисперсия тоже сильно отличаются, так как у Ultra разброс немного шире по всем трём критериям, что видно на графиках.\n",
    "\n",
    "Многие пользователи в основном не пишут сообщения на обоих тарифах или пишут, но совсем не много, где-то до 50 сообщений в месяц. Пользователи тарифа Smart редко пишут от 50 до 100 сообщений в день, а от 100 почти никогда. На тарифе Ultra разброс намного шире и более плавный, примерно на 75 сообщениях графики начинают расходиться, Ultra намного плавнее спускается вниз, на данном тарифе чаще пишут от 50 до 150 сообщений, но встречаются и уникальные случаи, когда пишут более 150 сообщений.\n",
    "\n",
    "Длина звонков на тарифе Ultra намного чаще равна нулю, чем на тарифе Smart, это означает, что пользователи тарифа Ultra чаще сбрасывают или не отвечают на звонки. Пользователи Smart чаще всего тратят около 500 минут в месяц, пользователи Ultra тоже имеют пик около значения 500, но на этом тарифе график продолжается и падает только после 875 минут, а у тарифа Smart где-то после 600 минут.\n",
    "\n",
    "Пользователи тарифа Ultra чаще чем пользователи тарифа Smart тратят от 0 до 5000 мегабайт в месяц. В среднем пользователи тарифа Smart тратят от 10000 до 22500 мегабайт. Пик у обоих тарифов отличается, у Smart: 15000, а у Ultra: 20000, при этом на Ultra значительно чаще чем на тарифе Smart тратят больше 25000 мегабайт в месяц."
   ]
  },
  {
   "cell_type": "markdown",
   "metadata": {},
   "source": [
    "## Проверка гипотез"
   ]
  },
  {
   "cell_type": "markdown",
   "metadata": {},
   "source": [
    "### Средняя выручка тарифов Smart и Ultra отличаются"
   ]
  },
  {
   "cell_type": "markdown",
   "metadata": {},
   "source": [
    "Сформулируем нулевую и алтернативную гипотезы:\n",
    "- Нулевая гипотеза гласит, что средняя выручка тарифов Smart и Ultra равны\n",
    "- Альтернативная гипотеза гласит, что средняя выручка тарифов Smart и Ultra отличаются"
   ]
  },
  {
   "cell_type": "markdown",
   "metadata": {},
   "source": [
    "Давайте попробуем опровергунть нулевую гипотезу, для этого зададим критический уровень статистической значимости:"
   ]
  },
  {
   "cell_type": "code",
   "execution_count": 30,
   "metadata": {},
   "outputs": [],
   "source": [
    "alpha = 0.05"
   ]
  },
  {
   "cell_type": "markdown",
   "metadata": {},
   "source": [
    "Выполним t-тест и сохраним его в переменную:"
   ]
  },
  {
   "cell_type": "code",
   "execution_count": 31,
   "metadata": {},
   "outputs": [],
   "source": [
    "results = st.ttest_ind(df_smart['income'], df_ultra['income'])"
   ]
  },
  {
   "cell_type": "markdown",
   "metadata": {},
   "source": [
    "Изучим p-value и сравним его с уровнем критической статистической значимости:"
   ]
  },
  {
   "cell_type": "code",
   "execution_count": 32,
   "metadata": {},
   "outputs": [
    {
     "name": "stdout",
     "output_type": "stream",
     "text": [
      "p-value: 2.717446581911462e-162\n",
      "Нулевая гипотеза может быть опровергнута\n"
     ]
    }
   ],
   "source": [
    "print('p-value:', results.pvalue)\n",
    "if results.pvalue < alpha:\n",
    "    print('Нулевая гипотеза может быть опровергнута')\n",
    "else:\n",
    "    print('Нулевая гипотеза не может быть опровергнута')"
   ]
  },
  {
   "cell_type": "markdown",
   "metadata": {},
   "source": [
    "**Вывод**\n",
    "\n",
    "Нулевая гипотеза о том, что выручки равны может быть опровергнута, а значит выручки тарифов Smart и Ultra различаются."
   ]
  },
  {
   "cell_type": "markdown",
   "metadata": {},
   "source": [
    "### Средняя выручка пользователей из Москвы отличается"
   ]
  },
  {
   "cell_type": "markdown",
   "metadata": {},
   "source": [
    "Сформулируем нулевую и альтернативную гипотезы:\n",
    "- Нулевая гипотеза гласит, что средняя выручка пользователей из Москвы равна выручке пользователей из других регионов\n",
    "- Альтернативная гипотеза гласит, что средняя выручка пользователей из Москвы отличается от выручки пользователей из других регионов"
   ]
  },
  {
   "cell_type": "markdown",
   "metadata": {},
   "source": [
    "Чтобы попытаться опровергнуть нулевую гипотезу давайте выделим пользователей из Москвы и из других регионов:"
   ]
  },
  {
   "cell_type": "code",
   "execution_count": 33,
   "metadata": {},
   "outputs": [],
   "source": [
    "df_moscow_users = df_users.query('city == \"Москва\"')\n",
    "df_other_users = df_users.query('city != \"Москва\"')"
   ]
  },
  {
   "cell_type": "markdown",
   "metadata": {},
   "source": [
    "Выполним t-тест и сохраним его в переменную:"
   ]
  },
  {
   "cell_type": "code",
   "execution_count": 34,
   "metadata": {},
   "outputs": [],
   "source": [
    "results = st.ttest_ind(df_moscow_users['income'], df_other_users['income'])"
   ]
  },
  {
   "cell_type": "markdown",
   "metadata": {},
   "source": [
    "Изучим p-value и сравним его с уровнем критической статистической значимости:"
   ]
  },
  {
   "cell_type": "code",
   "execution_count": 35,
   "metadata": {},
   "outputs": [
    {
     "name": "stdout",
     "output_type": "stream",
     "text": [
      "p-value: 0.5357407978453328\n",
      "Нулевая гипотеза не может быть опровергнута\n"
     ]
    }
   ],
   "source": [
    "print('p-value:', results.pvalue)\n",
    "if results.pvalue < alpha:\n",
    "    print('Нулевая гипотеза может быть опровергнута')\n",
    "else:\n",
    "    print('Нулевая гипотеза не может быть опровергнута')"
   ]
  },
  {
   "cell_type": "markdown",
   "metadata": {},
   "source": [
    "**Вывод**\n",
    "\n",
    "Нулевая гипотеза не может быть опровергнута, это означает, что выручка из Москвы и из других регионов не отличается."
   ]
  },
  {
   "cell_type": "markdown",
   "metadata": {},
   "source": [
    "## Общий вывод"
   ]
  },
  {
   "cell_type": "markdown",
   "metadata": {},
   "source": [
    "В основном поведение пользователей тарифа Ultra не сильно отличается от Smart. Они немного более активные, но не во всём и не всегда, чем пользователи тарифа Smart: среди них есть приличное количество людей, которые отправляют более 125 сообщений в месяц, когда пользователи тарифа Smart вообще за эту цифру не выходят, а если и выходят, то редкие единицы. Тоже самое и с потраченным трафиком, на тарифе Ultra пиков можно сказать несколько и последний расположен на 30 гигабайтах, хотя и менее активных пользователей тут тоже немного больше, чем на тарифе Smart. Длина звонков в среднем чуть больше, но также и больше \"нулевых\" звонков, то-есть отклонённых вызовов, возможно это потому что, пользователи тарифа Ultra реже имеют возможность разговаривать, к примеру, из-за деловых встреч.\n",
    "\n",
    "Средняя выручка тарифов Smart и Ultra действительно отличаются, средняя выручка в месяц у тарифа Ultra больше. А вот пользователи Москвы не отличаются по средней выручке от других регионов."
   ]
  }
 ],
 "metadata": {
  "ExecuteTimeLog": [
   {
    "duration": 2417,
    "start_time": "2021-12-24T21:11:13.925Z"
   },
   {
    "duration": 1654,
    "start_time": "2021-12-24T21:11:22.629Z"
   },
   {
    "duration": 194,
    "start_time": "2021-12-24T21:12:05.823Z"
   },
   {
    "duration": 473,
    "start_time": "2021-12-24T21:13:38.962Z"
   },
   {
    "duration": 464,
    "start_time": "2021-12-24T21:17:03.287Z"
   },
   {
    "duration": 442,
    "start_time": "2021-12-24T21:17:37.762Z"
   },
   {
    "duration": 497,
    "start_time": "2021-12-24T21:18:51.384Z"
   },
   {
    "duration": 441,
    "start_time": "2021-12-24T21:19:31.876Z"
   },
   {
    "duration": 74,
    "start_time": "2021-12-24T21:20:55.919Z"
   },
   {
    "duration": 56,
    "start_time": "2021-12-24T21:23:47.994Z"
   },
   {
    "duration": 50,
    "start_time": "2021-12-24T21:25:34.641Z"
   },
   {
    "duration": 49,
    "start_time": "2021-12-24T21:27:42.967Z"
   },
   {
    "duration": 60,
    "start_time": "2021-12-24T21:27:53.677Z"
   },
   {
    "duration": 52,
    "start_time": "2021-12-24T21:28:43.350Z"
   },
   {
    "duration": 51,
    "start_time": "2021-12-24T21:30:43.471Z"
   },
   {
    "duration": 57,
    "start_time": "2021-12-24T21:30:54.246Z"
   },
   {
    "duration": 38,
    "start_time": "2021-12-24T21:31:49.811Z"
   },
   {
    "duration": 62,
    "start_time": "2021-12-24T21:32:33.720Z"
   },
   {
    "duration": 68,
    "start_time": "2021-12-24T21:33:55.586Z"
   },
   {
    "duration": 67,
    "start_time": "2021-12-24T21:34:33.871Z"
   },
   {
    "duration": 68,
    "start_time": "2021-12-24T21:35:20.502Z"
   },
   {
    "duration": 5513,
    "start_time": "2021-12-24T21:36:53.126Z"
   },
   {
    "duration": 68,
    "start_time": "2021-12-24T21:37:20.510Z"
   },
   {
    "duration": 66,
    "start_time": "2021-12-24T21:37:29.035Z"
   },
   {
    "duration": 68,
    "start_time": "2021-12-24T21:37:37.263Z"
   },
   {
    "duration": 72,
    "start_time": "2021-12-24T21:38:02.305Z"
   },
   {
    "duration": 91,
    "start_time": "2021-12-24T21:39:46.247Z"
   },
   {
    "duration": 90,
    "start_time": "2021-12-24T21:39:57.782Z"
   },
   {
    "duration": 92,
    "start_time": "2021-12-24T21:40:20.326Z"
   },
   {
    "duration": 101,
    "start_time": "2021-12-24T21:40:49.063Z"
   },
   {
    "duration": 110,
    "start_time": "2021-12-24T21:41:44.244Z"
   },
   {
    "duration": 108,
    "start_time": "2021-12-24T21:45:17.080Z"
   },
   {
    "duration": 73,
    "start_time": "2021-12-24T21:49:00.592Z"
   },
   {
    "duration": 72,
    "start_time": "2021-12-24T21:49:20.947Z"
   },
   {
    "duration": 74,
    "start_time": "2021-12-24T21:50:04.627Z"
   },
   {
    "duration": 280,
    "start_time": "2021-12-24T21:50:33.828Z"
   },
   {
    "duration": 73,
    "start_time": "2021-12-24T21:51:29.824Z"
   },
   {
    "duration": 78,
    "start_time": "2021-12-24T21:51:35.122Z"
   },
   {
    "duration": 266,
    "start_time": "2021-12-24T21:51:57.194Z"
   },
   {
    "duration": 74,
    "start_time": "2021-12-24T21:52:04.558Z"
   },
   {
    "duration": 74,
    "start_time": "2021-12-24T21:52:13.158Z"
   },
   {
    "duration": 72,
    "start_time": "2021-12-24T21:52:30.114Z"
   },
   {
    "duration": 76,
    "start_time": "2021-12-24T21:53:20.304Z"
   },
   {
    "duration": 1454,
    "start_time": "2021-12-26T16:42:49.727Z"
   },
   {
    "duration": 8,
    "start_time": "2021-12-26T16:45:43.824Z"
   },
   {
    "duration": 397,
    "start_time": "2021-12-26T16:46:03.331Z"
   },
   {
    "duration": 604,
    "start_time": "2021-12-26T16:48:46.814Z"
   },
   {
    "duration": 5,
    "start_time": "2021-12-26T16:48:57.248Z"
   },
   {
    "duration": 7,
    "start_time": "2021-12-26T16:49:06.565Z"
   },
   {
    "duration": 530,
    "start_time": "2021-12-26T16:49:17.004Z"
   },
   {
    "duration": 8,
    "start_time": "2021-12-26T16:49:21.730Z"
   },
   {
    "duration": 5,
    "start_time": "2021-12-26T16:50:00.545Z"
   },
   {
    "duration": 9,
    "start_time": "2021-12-26T16:50:20.643Z"
   },
   {
    "duration": 32,
    "start_time": "2021-12-26T16:51:20.405Z"
   },
   {
    "duration": 26,
    "start_time": "2021-12-26T16:52:16.617Z"
   },
   {
    "duration": 20,
    "start_time": "2021-12-26T16:52:26.395Z"
   },
   {
    "duration": 12,
    "start_time": "2021-12-26T16:54:56.889Z"
   },
   {
    "duration": 27,
    "start_time": "2021-12-26T16:55:07.892Z"
   },
   {
    "duration": 31,
    "start_time": "2021-12-26T16:55:16.841Z"
   },
   {
    "duration": 86,
    "start_time": "2021-12-26T17:14:47.825Z"
   },
   {
    "duration": 27,
    "start_time": "2021-12-26T17:16:47.857Z"
   },
   {
    "duration": 56,
    "start_time": "2021-12-26T17:17:16.091Z"
   },
   {
    "duration": 45,
    "start_time": "2021-12-26T17:17:49.944Z"
   },
   {
    "duration": 335,
    "start_time": "2021-12-26T17:48:51.803Z"
   },
   {
    "duration": 370,
    "start_time": "2021-12-26T17:49:01.807Z"
   },
   {
    "duration": 144,
    "start_time": "2021-12-26T17:50:02.995Z"
   },
   {
    "duration": 111,
    "start_time": "2021-12-26T17:50:08.749Z"
   },
   {
    "duration": 47,
    "start_time": "2021-12-26T17:50:15.201Z"
   },
   {
    "duration": 9,
    "start_time": "2021-12-26T17:50:21.068Z"
   },
   {
    "duration": 22,
    "start_time": "2021-12-26T17:53:36.821Z"
   },
   {
    "duration": 14700,
    "start_time": "2021-12-26T17:55:00.713Z"
   },
   {
    "duration": -127,
    "start_time": "2021-12-26T17:55:15.543Z"
   },
   {
    "duration": 30659,
    "start_time": "2021-12-26T17:55:17.265Z"
   },
   {
    "duration": -363,
    "start_time": "2021-12-26T17:55:48.303Z"
   },
   {
    "duration": 540,
    "start_time": "2021-12-26T17:56:00.252Z"
   },
   {
    "duration": 22,
    "start_time": "2021-12-26T17:56:09.384Z"
   },
   {
    "duration": 400,
    "start_time": "2021-12-26T18:07:26.385Z"
   },
   {
    "duration": 368,
    "start_time": "2021-12-26T18:07:30.995Z"
   },
   {
    "duration": 83,
    "start_time": "2021-12-26T18:08:42.313Z"
   },
   {
    "duration": 62,
    "start_time": "2021-12-26T18:10:26.168Z"
   },
   {
    "duration": 475,
    "start_time": "2021-12-26T18:11:00.020Z"
   },
   {
    "duration": 66,
    "start_time": "2021-12-26T18:11:13.484Z"
   },
   {
    "duration": 390,
    "start_time": "2021-12-27T15:18:25.480Z"
   },
   {
    "duration": 1400,
    "start_time": "2021-12-27T15:18:35.024Z"
   },
   {
    "duration": 79,
    "start_time": "2021-12-27T15:18:36.428Z"
   },
   {
    "duration": 237,
    "start_time": "2021-12-27T15:18:36.510Z"
   },
   {
    "duration": 123,
    "start_time": "2021-12-27T15:18:36.750Z"
   },
   {
    "duration": 361,
    "start_time": "2021-12-27T15:18:36.876Z"
   },
   {
    "duration": 115,
    "start_time": "2021-12-27T15:18:37.239Z"
   },
   {
    "duration": 115,
    "start_time": "2021-12-27T15:18:37.357Z"
   },
   {
    "duration": 195,
    "start_time": "2021-12-27T15:18:37.477Z"
   },
   {
    "duration": 209,
    "start_time": "2021-12-27T15:18:37.675Z"
   },
   {
    "duration": 91,
    "start_time": "2021-12-27T15:21:41.027Z"
   },
   {
    "duration": 376,
    "start_time": "2021-12-28T13:11:17.146Z"
   },
   {
    "duration": 1257,
    "start_time": "2021-12-28T13:11:23.467Z"
   },
   {
    "duration": 65,
    "start_time": "2021-12-28T13:11:24.727Z"
   },
   {
    "duration": 107,
    "start_time": "2021-12-28T13:11:24.798Z"
   },
   {
    "duration": 30,
    "start_time": "2021-12-28T13:11:24.907Z"
   },
   {
    "duration": 104,
    "start_time": "2021-12-28T13:11:24.939Z"
   },
   {
    "duration": 55,
    "start_time": "2021-12-28T13:11:25.045Z"
   },
   {
    "duration": 34,
    "start_time": "2021-12-28T13:11:25.103Z"
   },
   {
    "duration": 33,
    "start_time": "2021-12-28T13:11:25.139Z"
   },
   {
    "duration": 84,
    "start_time": "2021-12-28T13:11:25.175Z"
   },
   {
    "duration": 66,
    "start_time": "2021-12-28T13:13:45.728Z"
   },
   {
    "duration": 66,
    "start_time": "2021-12-28T13:14:18.523Z"
   },
   {
    "duration": 69,
    "start_time": "2021-12-28T13:18:36.634Z"
   },
   {
    "duration": 32,
    "start_time": "2021-12-28T13:21:18.805Z"
   },
   {
    "duration": 20,
    "start_time": "2021-12-28T13:24:00.467Z"
   },
   {
    "duration": 32,
    "start_time": "2021-12-28T13:24:07.625Z"
   },
   {
    "duration": 19,
    "start_time": "2021-12-28T13:24:23.947Z"
   },
   {
    "duration": 31,
    "start_time": "2021-12-28T13:31:34.245Z"
   },
   {
    "duration": 18,
    "start_time": "2021-12-28T13:34:01.229Z"
   },
   {
    "duration": 497,
    "start_time": "2021-12-28T14:03:37.853Z"
   },
   {
    "duration": 9,
    "start_time": "2021-12-28T14:03:44.063Z"
   },
   {
    "duration": 18,
    "start_time": "2021-12-28T14:03:49.183Z"
   },
   {
    "duration": 16,
    "start_time": "2021-12-28T14:04:23.609Z"
   },
   {
    "duration": 17,
    "start_time": "2021-12-28T14:04:55.917Z"
   },
   {
    "duration": 20,
    "start_time": "2021-12-28T14:05:09.330Z"
   },
   {
    "duration": 31,
    "start_time": "2021-12-28T14:05:42.442Z"
   },
   {
    "duration": 370,
    "start_time": "2021-12-28T14:06:29.700Z"
   },
   {
    "duration": 31,
    "start_time": "2021-12-28T14:06:52.453Z"
   },
   {
    "duration": 447,
    "start_time": "2021-12-28T14:07:12.088Z"
   },
   {
    "duration": 34,
    "start_time": "2021-12-28T14:07:21.488Z"
   },
   {
    "duration": 16,
    "start_time": "2021-12-28T14:30:04.657Z"
   },
   {
    "duration": 336,
    "start_time": "2021-12-28T14:30:09.717Z"
   },
   {
    "duration": 169,
    "start_time": "2021-12-28T14:30:18.685Z"
   },
   {
    "duration": 29,
    "start_time": "2021-12-28T14:30:25.435Z"
   },
   {
    "duration": 527,
    "start_time": "2021-12-28T14:31:31.279Z"
   },
   {
    "duration": 1297,
    "start_time": "2021-12-28T14:32:21.904Z"
   },
   {
    "duration": 71,
    "start_time": "2021-12-28T14:32:23.204Z"
   },
   {
    "duration": 106,
    "start_time": "2021-12-28T14:32:23.279Z"
   },
   {
    "duration": 17,
    "start_time": "2021-12-28T14:32:23.388Z"
   },
   {
    "duration": 102,
    "start_time": "2021-12-28T14:32:23.407Z"
   },
   {
    "duration": 59,
    "start_time": "2021-12-28T14:32:23.512Z"
   },
   {
    "duration": 16,
    "start_time": "2021-12-28T14:32:23.573Z"
   },
   {
    "duration": 90,
    "start_time": "2021-12-28T14:32:23.592Z"
   },
   {
    "duration": 83,
    "start_time": "2021-12-28T14:32:23.685Z"
   },
   {
    "duration": 26,
    "start_time": "2021-12-28T14:32:23.770Z"
   },
   {
    "duration": 46,
    "start_time": "2021-12-28T14:32:23.798Z"
   },
   {
    "duration": 9,
    "start_time": "2021-12-28T14:32:23.846Z"
   },
   {
    "duration": 33,
    "start_time": "2021-12-28T14:32:23.857Z"
   },
   {
    "duration": 38,
    "start_time": "2021-12-28T14:32:23.893Z"
   },
   {
    "duration": 22,
    "start_time": "2021-12-28T14:32:41.349Z"
   },
   {
    "duration": 1299,
    "start_time": "2021-12-28T14:33:04.670Z"
   },
   {
    "duration": 67,
    "start_time": "2021-12-28T14:33:05.972Z"
   },
   {
    "duration": 113,
    "start_time": "2021-12-28T14:33:06.043Z"
   },
   {
    "duration": 29,
    "start_time": "2021-12-28T14:33:06.159Z"
   },
   {
    "duration": 99,
    "start_time": "2021-12-28T14:33:06.191Z"
   },
   {
    "duration": 71,
    "start_time": "2021-12-28T14:33:06.293Z"
   },
   {
    "duration": 28,
    "start_time": "2021-12-28T14:33:06.366Z"
   },
   {
    "duration": 85,
    "start_time": "2021-12-28T14:33:06.397Z"
   },
   {
    "duration": 84,
    "start_time": "2021-12-28T14:33:06.485Z"
   },
   {
    "duration": 27,
    "start_time": "2021-12-28T14:33:06.571Z"
   },
   {
    "duration": 49,
    "start_time": "2021-12-28T14:33:06.600Z"
   },
   {
    "duration": 9,
    "start_time": "2021-12-28T14:33:06.651Z"
   },
   {
    "duration": 36,
    "start_time": "2021-12-28T14:33:06.663Z"
   },
   {
    "duration": 45,
    "start_time": "2021-12-28T14:33:06.701Z"
   },
   {
    "duration": 27,
    "start_time": "2021-12-28T14:35:41.128Z"
   },
   {
    "duration": 29,
    "start_time": "2021-12-28T14:36:55.195Z"
   },
   {
    "duration": 26,
    "start_time": "2021-12-28T14:37:04.396Z"
   },
   {
    "duration": 30,
    "start_time": "2021-12-28T14:37:08.219Z"
   },
   {
    "duration": 24,
    "start_time": "2021-12-28T14:37:15.844Z"
   },
   {
    "duration": 23,
    "start_time": "2021-12-28T14:37:21.859Z"
   },
   {
    "duration": 27,
    "start_time": "2021-12-28T14:37:23.408Z"
   },
   {
    "duration": 20,
    "start_time": "2021-12-28T14:37:39.764Z"
   },
   {
    "duration": 29,
    "start_time": "2021-12-28T14:37:43.842Z"
   },
   {
    "duration": 1385,
    "start_time": "2021-12-28T14:39:17.021Z"
   },
   {
    "duration": 66,
    "start_time": "2021-12-28T14:39:18.408Z"
   },
   {
    "duration": 107,
    "start_time": "2021-12-28T14:39:18.477Z"
   },
   {
    "duration": 23,
    "start_time": "2021-12-28T14:39:18.587Z"
   },
   {
    "duration": 110,
    "start_time": "2021-12-28T14:39:18.613Z"
   },
   {
    "duration": 56,
    "start_time": "2021-12-28T14:39:18.726Z"
   },
   {
    "duration": 44,
    "start_time": "2021-12-28T14:39:18.785Z"
   },
   {
    "duration": 64,
    "start_time": "2021-12-28T14:39:18.833Z"
   },
   {
    "duration": 87,
    "start_time": "2021-12-28T14:39:18.899Z"
   },
   {
    "duration": 42,
    "start_time": "2021-12-28T14:39:18.989Z"
   },
   {
    "duration": 30,
    "start_time": "2021-12-28T14:39:19.033Z"
   },
   {
    "duration": 31,
    "start_time": "2021-12-28T14:39:19.066Z"
   },
   {
    "duration": 37,
    "start_time": "2021-12-28T14:39:19.100Z"
   },
   {
    "duration": 25,
    "start_time": "2021-12-28T14:39:19.139Z"
   },
   {
    "duration": 40,
    "start_time": "2021-12-28T14:40:02.024Z"
   },
   {
    "duration": 444,
    "start_time": "2021-12-28T14:40:41.837Z"
   },
   {
    "duration": 22,
    "start_time": "2021-12-28T14:40:49.751Z"
   },
   {
    "duration": 19,
    "start_time": "2021-12-28T14:40:58.166Z"
   },
   {
    "duration": 21,
    "start_time": "2021-12-28T14:41:02.230Z"
   },
   {
    "duration": 38,
    "start_time": "2021-12-28T14:41:04.752Z"
   },
   {
    "duration": 16,
    "start_time": "2021-12-28T14:42:59.929Z"
   },
   {
    "duration": 33,
    "start_time": "2021-12-28T14:43:01.908Z"
   },
   {
    "duration": 1237,
    "start_time": "2021-12-28T14:43:09.281Z"
   },
   {
    "duration": 64,
    "start_time": "2021-12-28T14:43:10.521Z"
   },
   {
    "duration": 157,
    "start_time": "2021-12-28T14:43:10.588Z"
   },
   {
    "duration": 23,
    "start_time": "2021-12-28T14:43:10.749Z"
   },
   {
    "duration": 158,
    "start_time": "2021-12-28T14:43:10.775Z"
   },
   {
    "duration": 59,
    "start_time": "2021-12-28T14:43:10.935Z"
   },
   {
    "duration": 38,
    "start_time": "2021-12-28T14:43:10.996Z"
   },
   {
    "duration": 86,
    "start_time": "2021-12-28T14:43:11.037Z"
   },
   {
    "duration": 71,
    "start_time": "2021-12-28T14:43:11.126Z"
   },
   {
    "duration": 42,
    "start_time": "2021-12-28T14:43:11.199Z"
   },
   {
    "duration": 20,
    "start_time": "2021-12-28T14:43:11.243Z"
   },
   {
    "duration": 64,
    "start_time": "2021-12-28T14:43:11.266Z"
   },
   {
    "duration": 11,
    "start_time": "2021-12-28T14:43:11.333Z"
   },
   {
    "duration": 33,
    "start_time": "2021-12-28T14:43:11.346Z"
   },
   {
    "duration": 37,
    "start_time": "2021-12-28T14:43:21.729Z"
   },
   {
    "duration": 40,
    "start_time": "2021-12-28T14:46:15.251Z"
   },
   {
    "duration": 1253,
    "start_time": "2021-12-28T14:52:21.465Z"
   },
   {
    "duration": 66,
    "start_time": "2021-12-28T14:52:22.722Z"
   },
   {
    "duration": 112,
    "start_time": "2021-12-28T14:52:22.790Z"
   },
   {
    "duration": 32,
    "start_time": "2021-12-28T14:52:22.905Z"
   },
   {
    "duration": 109,
    "start_time": "2021-12-28T14:52:22.939Z"
   },
   {
    "duration": 54,
    "start_time": "2021-12-28T14:52:23.051Z"
   },
   {
    "duration": 31,
    "start_time": "2021-12-28T14:52:23.108Z"
   },
   {
    "duration": 93,
    "start_time": "2021-12-28T14:52:23.144Z"
   },
   {
    "duration": 71,
    "start_time": "2021-12-28T14:52:23.240Z"
   },
   {
    "duration": 29,
    "start_time": "2021-12-28T14:52:23.324Z"
   },
   {
    "duration": 20,
    "start_time": "2021-12-28T14:52:23.356Z"
   },
   {
    "duration": 68,
    "start_time": "2021-12-28T14:52:23.379Z"
   },
   {
    "duration": 9,
    "start_time": "2021-12-28T14:52:23.449Z"
   },
   {
    "duration": 28,
    "start_time": "2021-12-28T14:52:23.461Z"
   },
   {
    "duration": 1261,
    "start_time": "2021-12-28T14:57:16.877Z"
   },
   {
    "duration": 82,
    "start_time": "2021-12-28T14:57:18.141Z"
   },
   {
    "duration": 105,
    "start_time": "2021-12-28T14:57:18.227Z"
   },
   {
    "duration": 18,
    "start_time": "2021-12-28T14:57:18.335Z"
   },
   {
    "duration": 107,
    "start_time": "2021-12-28T14:57:18.355Z"
   },
   {
    "duration": 68,
    "start_time": "2021-12-28T14:57:18.465Z"
   },
   {
    "duration": 17,
    "start_time": "2021-12-28T14:57:18.535Z"
   },
   {
    "duration": 82,
    "start_time": "2021-12-28T14:57:18.555Z"
   },
   {
    "duration": 63,
    "start_time": "2021-12-28T14:57:18.641Z"
   },
   {
    "duration": 39,
    "start_time": "2021-12-28T14:57:18.707Z"
   },
   {
    "duration": 18,
    "start_time": "2021-12-28T14:57:18.749Z"
   },
   {
    "duration": 65,
    "start_time": "2021-12-28T14:57:18.770Z"
   },
   {
    "duration": 15,
    "start_time": "2021-12-28T14:57:18.838Z"
   },
   {
    "duration": 11,
    "start_time": "2021-12-28T14:57:18.856Z"
   },
   {
    "duration": 56,
    "start_time": "2021-12-28T14:57:18.869Z"
   },
   {
    "duration": 27,
    "start_time": "2021-12-28T15:15:53.850Z"
   },
   {
    "duration": 10,
    "start_time": "2021-12-28T15:16:00.140Z"
   },
   {
    "duration": 396,
    "start_time": "2021-12-28T15:18:19.755Z"
   },
   {
    "duration": 7,
    "start_time": "2021-12-28T15:18:25.387Z"
   },
   {
    "duration": 14,
    "start_time": "2021-12-28T15:18:46.901Z"
   },
   {
    "duration": 45,
    "start_time": "2021-12-28T15:18:48.581Z"
   },
   {
    "duration": 9,
    "start_time": "2021-12-28T15:22:44.255Z"
   },
   {
    "duration": 27,
    "start_time": "2021-12-28T15:22:45.760Z"
   },
   {
    "duration": 441,
    "start_time": "2021-12-28T15:27:17.359Z"
   },
   {
    "duration": 11,
    "start_time": "2021-12-28T15:27:28.951Z"
   },
   {
    "duration": 26,
    "start_time": "2021-12-28T15:41:07.363Z"
   },
   {
    "duration": 6,
    "start_time": "2021-12-28T16:20:36.489Z"
   },
   {
    "duration": 10160,
    "start_time": "2021-12-28T16:22:57.943Z"
   },
   {
    "duration": 13,
    "start_time": "2021-12-28T16:24:33.641Z"
   },
   {
    "duration": 26,
    "start_time": "2021-12-28T16:24:43.321Z"
   },
   {
    "duration": 6,
    "start_time": "2021-12-28T16:24:57.715Z"
   },
   {
    "duration": 9254,
    "start_time": "2021-12-28T16:25:01.532Z"
   },
   {
    "duration": 1240,
    "start_time": "2021-12-28T16:25:31.529Z"
   },
   {
    "duration": 67,
    "start_time": "2021-12-28T16:25:32.772Z"
   },
   {
    "duration": 108,
    "start_time": "2021-12-28T16:25:32.843Z"
   },
   {
    "duration": 17,
    "start_time": "2021-12-28T16:25:32.953Z"
   },
   {
    "duration": 107,
    "start_time": "2021-12-28T16:25:32.973Z"
   },
   {
    "duration": 68,
    "start_time": "2021-12-28T16:25:33.082Z"
   },
   {
    "duration": 23,
    "start_time": "2021-12-28T16:25:33.152Z"
   },
   {
    "duration": 101,
    "start_time": "2021-12-28T16:25:33.178Z"
   },
   {
    "duration": 74,
    "start_time": "2021-12-28T16:25:33.283Z"
   },
   {
    "duration": 27,
    "start_time": "2021-12-28T16:25:33.360Z"
   },
   {
    "duration": 35,
    "start_time": "2021-12-28T16:25:33.389Z"
   },
   {
    "duration": 39,
    "start_time": "2021-12-28T16:25:33.427Z"
   },
   {
    "duration": 15,
    "start_time": "2021-12-28T16:25:33.469Z"
   },
   {
    "duration": 38,
    "start_time": "2021-12-28T16:25:33.487Z"
   },
   {
    "duration": 10,
    "start_time": "2021-12-28T16:25:33.527Z"
   },
   {
    "duration": 14,
    "start_time": "2021-12-28T16:25:33.539Z"
   },
   {
    "duration": 13,
    "start_time": "2021-12-28T16:25:33.555Z"
   },
   {
    "duration": 57,
    "start_time": "2021-12-28T16:25:33.570Z"
   },
   {
    "duration": 8,
    "start_time": "2021-12-28T16:25:33.630Z"
   },
   {
    "duration": 913,
    "start_time": "2021-12-28T16:25:33.641Z"
   },
   {
    "duration": -33,
    "start_time": "2021-12-28T16:25:34.590Z"
   },
   {
    "duration": -33,
    "start_time": "2021-12-28T16:25:34.592Z"
   },
   {
    "duration": -31,
    "start_time": "2021-12-28T16:25:34.593Z"
   },
   {
    "duration": 9,
    "start_time": "2021-12-28T16:27:08.376Z"
   },
   {
    "duration": 675,
    "start_time": "2021-12-28T16:29:01.428Z"
   },
   {
    "duration": 8,
    "start_time": "2021-12-28T16:29:11.298Z"
   },
   {
    "duration": 762,
    "start_time": "2021-12-28T16:29:13.134Z"
   },
   {
    "duration": 6,
    "start_time": "2021-12-28T16:29:51.114Z"
   },
   {
    "duration": 113,
    "start_time": "2021-12-28T16:29:56.837Z"
   },
   {
    "duration": 6,
    "start_time": "2021-12-28T16:29:59.076Z"
   },
   {
    "duration": 682,
    "start_time": "2021-12-28T16:30:00.508Z"
   },
   {
    "duration": 7,
    "start_time": "2021-12-28T16:30:58.831Z"
   },
   {
    "duration": 678,
    "start_time": "2021-12-28T16:31:01.635Z"
   },
   {
    "duration": 28,
    "start_time": "2021-12-28T16:31:29.004Z"
   },
   {
    "duration": 7915,
    "start_time": "2021-12-28T16:31:57.328Z"
   },
   {
    "duration": 7,
    "start_time": "2021-12-28T16:32:07.355Z"
   },
   {
    "duration": 6,
    "start_time": "2021-12-28T16:32:37.355Z"
   },
   {
    "duration": 6,
    "start_time": "2021-12-28T16:32:41.796Z"
   },
   {
    "duration": 12,
    "start_time": "2021-12-28T16:33:33.155Z"
   },
   {
    "duration": 317,
    "start_time": "2021-12-28T16:33:47.906Z"
   },
   {
    "duration": 11,
    "start_time": "2021-12-28T16:34:05.547Z"
   },
   {
    "duration": 7,
    "start_time": "2021-12-28T16:34:52.942Z"
   },
   {
    "duration": -32,
    "start_time": "2021-12-28T16:35:21.217Z"
   },
   {
    "duration": -41,
    "start_time": "2021-12-28T16:35:21.228Z"
   },
   {
    "duration": 43,
    "start_time": "2021-12-28T16:35:34.885Z"
   },
   {
    "duration": 1580,
    "start_time": "2021-12-28T16:36:02.121Z"
   },
   {
    "duration": 73,
    "start_time": "2021-12-28T16:36:03.704Z"
   },
   {
    "duration": 127,
    "start_time": "2021-12-28T16:36:03.781Z"
   },
   {
    "duration": 23,
    "start_time": "2021-12-28T16:36:03.912Z"
   },
   {
    "duration": 124,
    "start_time": "2021-12-28T16:36:03.937Z"
   },
   {
    "duration": 72,
    "start_time": "2021-12-28T16:36:04.063Z"
   },
   {
    "duration": 20,
    "start_time": "2021-12-28T16:36:04.138Z"
   },
   {
    "duration": 94,
    "start_time": "2021-12-28T16:36:04.163Z"
   },
   {
    "duration": 90,
    "start_time": "2021-12-28T16:36:04.260Z"
   },
   {
    "duration": 28,
    "start_time": "2021-12-28T16:36:04.352Z"
   },
   {
    "duration": 43,
    "start_time": "2021-12-28T16:36:04.382Z"
   },
   {
    "duration": 43,
    "start_time": "2021-12-28T16:36:04.427Z"
   },
   {
    "duration": 16,
    "start_time": "2021-12-28T16:36:04.472Z"
   },
   {
    "duration": 35,
    "start_time": "2021-12-28T16:36:04.490Z"
   },
   {
    "duration": 10,
    "start_time": "2021-12-28T16:36:04.527Z"
   },
   {
    "duration": 16,
    "start_time": "2021-12-28T16:36:04.539Z"
   },
   {
    "duration": 9,
    "start_time": "2021-12-28T16:36:04.557Z"
   },
   {
    "duration": 63,
    "start_time": "2021-12-28T16:36:04.568Z"
   },
   {
    "duration": 8,
    "start_time": "2021-12-28T16:36:04.634Z"
   },
   {
    "duration": 21599,
    "start_time": "2021-12-28T16:36:04.644Z"
   },
   {
    "duration": -31,
    "start_time": "2021-12-28T16:36:26.276Z"
   },
   {
    "duration": -31,
    "start_time": "2021-12-28T16:36:26.278Z"
   },
   {
    "duration": 6,
    "start_time": "2021-12-28T16:38:45.968Z"
   },
   {
    "duration": 27280,
    "start_time": "2021-12-28T16:38:47.980Z"
   },
   {
    "duration": 29,
    "start_time": "2021-12-28T16:39:23.777Z"
   },
   {
    "duration": 515,
    "start_time": "2021-12-28T16:41:07.360Z"
   },
   {
    "duration": 519,
    "start_time": "2021-12-28T16:41:13.532Z"
   },
   {
    "duration": 22,
    "start_time": "2021-12-28T16:41:21.053Z"
   },
   {
    "duration": 1257,
    "start_time": "2021-12-28T16:41:29.961Z"
   },
   {
    "duration": 65,
    "start_time": "2021-12-28T16:41:31.220Z"
   },
   {
    "duration": 107,
    "start_time": "2021-12-28T16:41:31.289Z"
   },
   {
    "duration": 27,
    "start_time": "2021-12-28T16:41:31.399Z"
   },
   {
    "duration": 100,
    "start_time": "2021-12-28T16:41:31.429Z"
   },
   {
    "duration": 54,
    "start_time": "2021-12-28T16:41:31.532Z"
   },
   {
    "duration": 41,
    "start_time": "2021-12-28T16:41:31.588Z"
   },
   {
    "duration": 70,
    "start_time": "2021-12-28T16:41:31.632Z"
   },
   {
    "duration": 79,
    "start_time": "2021-12-28T16:41:31.704Z"
   },
   {
    "duration": 38,
    "start_time": "2021-12-28T16:41:31.785Z"
   },
   {
    "duration": 21,
    "start_time": "2021-12-28T16:41:31.826Z"
   },
   {
    "duration": 42,
    "start_time": "2021-12-28T16:41:31.850Z"
   },
   {
    "duration": 42,
    "start_time": "2021-12-28T16:41:31.894Z"
   },
   {
    "duration": 11,
    "start_time": "2021-12-28T16:41:31.938Z"
   },
   {
    "duration": 9,
    "start_time": "2021-12-28T16:41:31.951Z"
   },
   {
    "duration": 22,
    "start_time": "2021-12-28T16:41:31.962Z"
   },
   {
    "duration": 39,
    "start_time": "2021-12-28T16:41:31.986Z"
   },
   {
    "duration": 31,
    "start_time": "2021-12-28T16:41:32.027Z"
   },
   {
    "duration": 8,
    "start_time": "2021-12-28T16:41:32.060Z"
   },
   {
    "duration": 26427,
    "start_time": "2021-12-28T16:41:32.070Z"
   },
   {
    "duration": -32,
    "start_time": "2021-12-28T16:41:58.532Z"
   },
   {
    "duration": -33,
    "start_time": "2021-12-28T16:41:58.535Z"
   },
   {
    "duration": 27,
    "start_time": "2021-12-28T16:42:02.164Z"
   },
   {
    "duration": 9,
    "start_time": "2021-12-28T16:45:58.552Z"
   },
   {
    "duration": 26676,
    "start_time": "2021-12-28T16:46:02.848Z"
   },
   {
    "duration": 17580,
    "start_time": "2021-12-28T17:06:38.279Z"
   },
   {
    "duration": 7,
    "start_time": "2021-12-28T17:07:50.042Z"
   },
   {
    "duration": 14434,
    "start_time": "2021-12-28T17:07:50.051Z"
   },
   {
    "duration": 13,
    "start_time": "2021-12-28T17:08:26.310Z"
   },
   {
    "duration": 13,
    "start_time": "2021-12-28T17:08:31.571Z"
   },
   {
    "duration": 6,
    "start_time": "2021-12-28T17:11:40.626Z"
   },
   {
    "duration": 883,
    "start_time": "2021-12-28T17:11:42.910Z"
   },
   {
    "duration": 7,
    "start_time": "2021-12-28T17:12:09.331Z"
   },
   {
    "duration": 722,
    "start_time": "2021-12-28T17:12:12.532Z"
   },
   {
    "duration": 8,
    "start_time": "2021-12-28T17:21:29.390Z"
   },
   {
    "duration": 12828,
    "start_time": "2021-12-28T17:21:32.032Z"
   },
   {
    "duration": 9071,
    "start_time": "2021-12-28T17:25:15.866Z"
   },
   {
    "duration": 26,
    "start_time": "2021-12-28T17:25:34.841Z"
   },
   {
    "duration": 538,
    "start_time": "2021-12-28T17:25:43.485Z"
   },
   {
    "duration": 8,
    "start_time": "2021-12-28T17:25:47.770Z"
   },
   {
    "duration": 5,
    "start_time": "2021-12-28T17:27:06.509Z"
   },
   {
    "duration": 9639,
    "start_time": "2021-12-28T17:27:34.764Z"
   },
   {
    "duration": 6,
    "start_time": "2021-12-28T17:27:57.307Z"
   },
   {
    "duration": 315,
    "start_time": "2021-12-28T17:28:36.391Z"
   },
   {
    "duration": 329,
    "start_time": "2021-12-28T17:28:53.785Z"
   },
   {
    "duration": 10,
    "start_time": "2021-12-28T17:28:58.722Z"
   },
   {
    "duration": 389,
    "start_time": "2021-12-28T17:29:10.750Z"
   },
   {
    "duration": 9,
    "start_time": "2021-12-28T17:29:21.730Z"
   },
   {
    "duration": 7,
    "start_time": "2021-12-28T17:29:24.080Z"
   },
   {
    "duration": 11,
    "start_time": "2021-12-28T17:29:43.883Z"
   },
   {
    "duration": 8,
    "start_time": "2021-12-28T17:29:48.279Z"
   },
   {
    "duration": 7,
    "start_time": "2021-12-28T17:29:50.273Z"
   },
   {
    "duration": 8,
    "start_time": "2021-12-28T17:30:06.599Z"
   },
   {
    "duration": 7,
    "start_time": "2021-12-28T17:30:47.236Z"
   },
   {
    "duration": 8831,
    "start_time": "2021-12-28T17:30:50.279Z"
   },
   {
    "duration": 8,
    "start_time": "2021-12-28T17:31:02.037Z"
   },
   {
    "duration": 8866,
    "start_time": "2021-12-28T17:31:49.880Z"
   },
   {
    "duration": 28,
    "start_time": "2021-12-28T17:32:04.091Z"
   },
   {
    "duration": 21,
    "start_time": "2021-12-28T17:32:15.905Z"
   },
   {
    "duration": 399,
    "start_time": "2021-12-29T18:56:43.041Z"
   },
   {
    "duration": 1485,
    "start_time": "2021-12-29T18:56:51.876Z"
   },
   {
    "duration": 113,
    "start_time": "2021-12-29T18:56:53.364Z"
   },
   {
    "duration": 174,
    "start_time": "2021-12-29T18:56:53.481Z"
   },
   {
    "duration": 20,
    "start_time": "2021-12-29T18:56:53.657Z"
   },
   {
    "duration": 129,
    "start_time": "2021-12-29T18:56:53.680Z"
   },
   {
    "duration": 71,
    "start_time": "2021-12-29T18:56:53.812Z"
   },
   {
    "duration": 34,
    "start_time": "2021-12-29T18:56:53.886Z"
   },
   {
    "duration": 73,
    "start_time": "2021-12-29T18:56:53.929Z"
   },
   {
    "duration": 80,
    "start_time": "2021-12-29T18:56:54.019Z"
   },
   {
    "duration": 56,
    "start_time": "2021-12-29T18:56:54.103Z"
   },
   {
    "duration": 30,
    "start_time": "2021-12-29T18:56:54.162Z"
   },
   {
    "duration": 70,
    "start_time": "2021-12-29T18:56:54.195Z"
   },
   {
    "duration": 19,
    "start_time": "2021-12-29T18:56:54.268Z"
   },
   {
    "duration": 40,
    "start_time": "2021-12-29T18:56:54.290Z"
   },
   {
    "duration": 17,
    "start_time": "2021-12-29T18:56:54.333Z"
   },
   {
    "duration": 18,
    "start_time": "2021-12-29T18:56:54.353Z"
   },
   {
    "duration": 10,
    "start_time": "2021-12-29T18:56:54.374Z"
   },
   {
    "duration": 62,
    "start_time": "2021-12-29T18:56:54.386Z"
   },
   {
    "duration": 9,
    "start_time": "2021-12-29T18:56:54.451Z"
   },
   {
    "duration": 10507,
    "start_time": "2021-12-29T18:56:54.462Z"
   },
   {
    "duration": 23,
    "start_time": "2021-12-29T18:57:04.971Z"
   },
   {
    "duration": 28,
    "start_time": "2021-12-29T18:57:04.997Z"
   },
   {
    "duration": 430,
    "start_time": "2021-12-29T18:57:30.279Z"
   },
   {
    "duration": 347,
    "start_time": "2021-12-29T18:57:35.445Z"
   },
   {
    "duration": 66,
    "start_time": "2021-12-29T18:57:55.798Z"
   },
   {
    "duration": 11,
    "start_time": "2021-12-29T18:58:28.512Z"
   },
   {
    "duration": 11,
    "start_time": "2021-12-29T18:58:38.124Z"
   },
   {
    "duration": 15,
    "start_time": "2021-12-29T19:00:41.428Z"
   },
   {
    "duration": 12,
    "start_time": "2021-12-29T19:13:45.089Z"
   },
   {
    "duration": 9,
    "start_time": "2021-12-29T20:43:28.539Z"
   },
   {
    "duration": 10,
    "start_time": "2021-12-29T20:43:31.997Z"
   },
   {
    "duration": 9,
    "start_time": "2021-12-29T20:43:35.084Z"
   },
   {
    "duration": 9,
    "start_time": "2021-12-29T20:45:06.704Z"
   },
   {
    "duration": 9,
    "start_time": "2021-12-29T20:45:27.644Z"
   },
   {
    "duration": 8,
    "start_time": "2021-12-29T20:45:36.084Z"
   },
   {
    "duration": 45,
    "start_time": "2021-12-29T20:52:01.219Z"
   },
   {
    "duration": 24,
    "start_time": "2021-12-29T20:54:00.056Z"
   },
   {
    "duration": 320,
    "start_time": "2021-12-29T20:57:27.452Z"
   },
   {
    "duration": 704,
    "start_time": "2021-12-29T20:57:39.671Z"
   },
   {
    "duration": 292,
    "start_time": "2021-12-29T20:57:55.713Z"
   },
   {
    "duration": 402,
    "start_time": "2021-12-29T20:58:08.346Z"
   },
   {
    "duration": 11,
    "start_time": "2021-12-29T21:00:43.273Z"
   },
   {
    "duration": 14,
    "start_time": "2021-12-29T21:02:59.833Z"
   },
   {
    "duration": 11,
    "start_time": "2021-12-29T21:03:32.192Z"
   },
   {
    "duration": 318,
    "start_time": "2021-12-29T21:03:39.651Z"
   },
   {
    "duration": 582,
    "start_time": "2021-12-29T21:06:22.259Z"
   },
   {
    "duration": 466,
    "start_time": "2021-12-29T21:06:34.458Z"
   },
   {
    "duration": 366,
    "start_time": "2021-12-29T21:07:03.717Z"
   },
   {
    "duration": 343,
    "start_time": "2021-12-29T21:07:27.476Z"
   },
   {
    "duration": 358,
    "start_time": "2021-12-29T21:07:36.917Z"
   },
   {
    "duration": 342,
    "start_time": "2021-12-29T21:07:46.144Z"
   },
   {
    "duration": 691,
    "start_time": "2021-12-29T21:08:59.036Z"
   },
   {
    "duration": 534,
    "start_time": "2021-12-29T21:09:19.957Z"
   },
   {
    "duration": 607,
    "start_time": "2021-12-29T21:09:32.316Z"
   },
   {
    "duration": 430,
    "start_time": "2021-12-29T21:22:06.162Z"
   },
   {
    "duration": 435,
    "start_time": "2021-12-29T21:22:15.482Z"
   },
   {
    "duration": 607,
    "start_time": "2021-12-29T21:22:25.840Z"
   },
   {
    "duration": 415,
    "start_time": "2021-12-29T21:34:22.482Z"
   },
   {
    "duration": 436,
    "start_time": "2021-12-29T21:34:32.129Z"
   },
   {
    "duration": 143,
    "start_time": "2021-12-29T21:35:47.929Z"
   },
   {
    "duration": 429,
    "start_time": "2021-12-29T21:35:52.203Z"
   },
   {
    "duration": 436,
    "start_time": "2021-12-29T21:36:05.041Z"
   },
   {
    "duration": 534,
    "start_time": "2021-12-29T21:36:28.763Z"
   },
   {
    "duration": 750,
    "start_time": "2021-12-29T21:36:37.041Z"
   },
   {
    "duration": 108,
    "start_time": "2021-12-29T21:36:55.121Z"
   },
   {
    "duration": 384,
    "start_time": "2021-12-29T21:37:00.121Z"
   },
   {
    "duration": 380,
    "start_time": "2021-12-29T21:39:42.121Z"
   },
   {
    "duration": 390,
    "start_time": "2021-12-29T21:39:52.964Z"
   },
   {
    "duration": 369,
    "start_time": "2021-12-29T21:40:13.233Z"
   },
   {
    "duration": 588,
    "start_time": "2021-12-29T21:40:21.289Z"
   },
   {
    "duration": 638,
    "start_time": "2021-12-29T21:40:37.721Z"
   },
   {
    "duration": 588,
    "start_time": "2021-12-29T21:41:11.443Z"
   },
   {
    "duration": 395,
    "start_time": "2021-12-29T21:41:24.757Z"
   },
   {
    "duration": 581,
    "start_time": "2021-12-29T21:44:00.162Z"
   },
   {
    "duration": 394,
    "start_time": "2021-12-29T21:46:40.962Z"
   },
   {
    "duration": 391,
    "start_time": "2021-12-29T21:46:49.362Z"
   },
   {
    "duration": 349,
    "start_time": "2021-12-29T21:46:55.680Z"
   },
   {
    "duration": 390,
    "start_time": "2021-12-29T21:47:02.641Z"
   },
   {
    "duration": 402,
    "start_time": "2021-12-29T21:47:09.922Z"
   },
   {
    "duration": 513,
    "start_time": "2021-12-29T21:47:32.243Z"
   },
   {
    "duration": 403,
    "start_time": "2021-12-29T21:48:05.402Z"
   },
   {
    "duration": 402,
    "start_time": "2021-12-29T21:48:10.561Z"
   },
   {
    "duration": 457,
    "start_time": "2021-12-29T21:48:22.245Z"
   },
   {
    "duration": 620,
    "start_time": "2021-12-29T21:48:40.482Z"
   },
   {
    "duration": 612,
    "start_time": "2021-12-29T21:48:44.526Z"
   },
   {
    "duration": 722,
    "start_time": "2021-12-29T21:49:28.242Z"
   },
   {
    "duration": 684,
    "start_time": "2021-12-29T21:49:32.121Z"
   },
   {
    "duration": 415,
    "start_time": "2021-12-29T21:50:01.561Z"
   },
   {
    "duration": 411,
    "start_time": "2021-12-29T21:50:08.681Z"
   },
   {
    "duration": 412,
    "start_time": "2021-12-29T21:51:32.281Z"
   },
   {
    "duration": 542,
    "start_time": "2021-12-29T21:51:50.310Z"
   },
   {
    "duration": 321,
    "start_time": "2022-01-01T15:04:01.099Z"
   },
   {
    "duration": 2120,
    "start_time": "2022-01-01T15:04:08.333Z"
   },
   {
    "duration": 71,
    "start_time": "2022-01-01T15:04:10.455Z"
   },
   {
    "duration": 116,
    "start_time": "2022-01-01T15:04:10.529Z"
   },
   {
    "duration": 30,
    "start_time": "2022-01-01T15:04:10.649Z"
   },
   {
    "duration": 111,
    "start_time": "2022-01-01T15:04:10.681Z"
   },
   {
    "duration": 71,
    "start_time": "2022-01-01T15:04:10.794Z"
   },
   {
    "duration": 15,
    "start_time": "2022-01-01T15:04:10.868Z"
   },
   {
    "duration": 90,
    "start_time": "2022-01-01T15:04:10.886Z"
   },
   {
    "duration": 83,
    "start_time": "2022-01-01T15:04:10.980Z"
   },
   {
    "duration": 29,
    "start_time": "2022-01-01T15:04:11.065Z"
   },
   {
    "duration": 20,
    "start_time": "2022-01-01T15:04:11.096Z"
   },
   {
    "duration": 68,
    "start_time": "2022-01-01T15:04:11.118Z"
   },
   {
    "duration": 16,
    "start_time": "2022-01-01T15:04:11.188Z"
   },
   {
    "duration": 11,
    "start_time": "2022-01-01T15:04:11.207Z"
   },
   {
    "duration": 11,
    "start_time": "2022-01-01T15:04:11.220Z"
   },
   {
    "duration": 16,
    "start_time": "2022-01-01T15:04:11.263Z"
   },
   {
    "duration": 11,
    "start_time": "2022-01-01T15:04:11.282Z"
   },
   {
    "duration": 27,
    "start_time": "2022-01-01T15:04:11.295Z"
   },
   {
    "duration": 39,
    "start_time": "2022-01-01T15:04:11.324Z"
   },
   {
    "duration": 9196,
    "start_time": "2022-01-01T15:04:11.366Z"
   },
   {
    "duration": 23,
    "start_time": "2022-01-01T15:04:20.565Z"
   },
   {
    "duration": 16,
    "start_time": "2022-01-01T15:04:20.592Z"
   },
   {
    "duration": 9,
    "start_time": "2022-01-01T15:04:20.611Z"
   },
   {
    "duration": 42,
    "start_time": "2022-01-01T15:04:20.622Z"
   },
   {
    "duration": 11,
    "start_time": "2022-01-01T15:04:20.666Z"
   },
   {
    "duration": 13,
    "start_time": "2022-01-01T15:04:20.679Z"
   },
   {
    "duration": 12,
    "start_time": "2022-01-01T15:04:20.696Z"
   },
   {
    "duration": 470,
    "start_time": "2022-01-01T15:04:20.710Z"
   },
   {
    "duration": 433,
    "start_time": "2022-01-01T15:04:21.183Z"
   },
   {
    "duration": 474,
    "start_time": "2022-01-01T15:06:11.607Z"
   },
   {
    "duration": 9,
    "start_time": "2022-01-01T15:09:57.007Z"
   },
   {
    "duration": 9,
    "start_time": "2022-01-01T15:10:11.185Z"
   },
   {
    "duration": 9,
    "start_time": "2022-01-01T15:10:24.405Z"
   },
   {
    "duration": 126,
    "start_time": "2022-01-01T15:10:49.145Z"
   },
   {
    "duration": 77,
    "start_time": "2022-01-01T15:10:58.172Z"
   },
   {
    "duration": 89,
    "start_time": "2022-01-01T15:14:13.127Z"
   },
   {
    "duration": 11,
    "start_time": "2022-01-01T15:14:17.154Z"
   },
   {
    "duration": 10,
    "start_time": "2022-01-01T15:14:29.327Z"
   },
   {
    "duration": 12,
    "start_time": "2022-01-01T15:14:49.427Z"
   },
   {
    "duration": 10,
    "start_time": "2022-01-01T15:15:49.081Z"
   },
   {
    "duration": 11,
    "start_time": "2022-01-01T15:16:16.807Z"
   },
   {
    "duration": 692,
    "start_time": "2022-01-01T15:36:28.246Z"
   },
   {
    "duration": 397,
    "start_time": "2022-01-01T15:36:31.684Z"
   },
   {
    "duration": 89,
    "start_time": "2022-01-01T15:58:27.670Z"
   },
   {
    "duration": 477,
    "start_time": "2022-01-01T15:58:33.291Z"
   },
   {
    "duration": 398,
    "start_time": "2022-01-01T15:58:40.213Z"
   },
   {
    "duration": 529,
    "start_time": "2022-01-01T16:00:01.845Z"
   },
   {
    "duration": 407,
    "start_time": "2022-01-01T16:00:47.133Z"
   },
   {
    "duration": 6,
    "start_time": "2022-01-01T16:08:59.442Z"
   },
   {
    "duration": 7,
    "start_time": "2022-01-01T16:09:38.200Z"
   },
   {
    "duration": 7,
    "start_time": "2022-01-01T16:12:37.012Z"
   },
   {
    "duration": 8,
    "start_time": "2022-01-01T16:12:42.999Z"
   },
   {
    "duration": 381,
    "start_time": "2022-01-01T16:16:36.152Z"
   },
   {
    "duration": 11,
    "start_time": "2022-01-01T16:17:03.091Z"
   },
   {
    "duration": 8,
    "start_time": "2022-01-01T16:18:27.121Z"
   },
   {
    "duration": 398,
    "start_time": "2022-01-03T19:29:19.080Z"
   },
   {
    "duration": 1860,
    "start_time": "2022-01-03T19:33:04.453Z"
   },
   {
    "duration": 2031,
    "start_time": "2022-01-03T19:33:15.989Z"
   },
   {
    "duration": 66,
    "start_time": "2022-01-03T19:33:18.024Z"
   },
   {
    "duration": 109,
    "start_time": "2022-01-03T19:33:18.093Z"
   },
   {
    "duration": 35,
    "start_time": "2022-01-03T19:33:18.205Z"
   },
   {
    "duration": 104,
    "start_time": "2022-01-03T19:33:18.243Z"
   },
   {
    "duration": 55,
    "start_time": "2022-01-03T19:33:18.350Z"
   },
   {
    "duration": 31,
    "start_time": "2022-01-03T19:33:18.407Z"
   },
   {
    "duration": 82,
    "start_time": "2022-01-03T19:33:18.441Z"
   },
   {
    "duration": 66,
    "start_time": "2022-01-03T19:33:18.527Z"
   },
   {
    "duration": 43,
    "start_time": "2022-01-03T19:33:18.596Z"
   },
   {
    "duration": 21,
    "start_time": "2022-01-03T19:33:18.641Z"
   },
   {
    "duration": 59,
    "start_time": "2022-01-03T19:33:18.664Z"
   },
   {
    "duration": 17,
    "start_time": "2022-01-03T19:33:18.726Z"
   },
   {
    "duration": 13,
    "start_time": "2022-01-03T19:33:18.745Z"
   },
   {
    "duration": 12,
    "start_time": "2022-01-03T19:33:18.760Z"
   },
   {
    "duration": 56,
    "start_time": "2022-01-03T19:33:18.774Z"
   },
   {
    "duration": 9,
    "start_time": "2022-01-03T19:33:19.108Z"
   },
   {
    "duration": 35,
    "start_time": "2022-01-03T19:33:19.119Z"
   },
   {
    "duration": 7,
    "start_time": "2022-01-03T19:33:19.158Z"
   },
   {
    "duration": 9614,
    "start_time": "2022-01-03T19:33:19.168Z"
   },
   {
    "duration": 21,
    "start_time": "2022-01-03T19:33:28.785Z"
   },
   {
    "duration": 25,
    "start_time": "2022-01-03T19:33:28.808Z"
   },
   {
    "duration": 10,
    "start_time": "2022-01-03T19:33:28.836Z"
   },
   {
    "duration": 10,
    "start_time": "2022-01-03T19:33:28.848Z"
   },
   {
    "duration": 11,
    "start_time": "2022-01-03T19:33:28.860Z"
   },
   {
    "duration": 56,
    "start_time": "2022-01-03T19:33:28.873Z"
   },
   {
    "duration": 12,
    "start_time": "2022-01-03T19:33:28.932Z"
   },
   {
    "duration": 431,
    "start_time": "2022-01-03T19:33:28.947Z"
   },
   {
    "duration": 434,
    "start_time": "2022-01-03T19:33:29.380Z"
   },
   {
    "duration": 405,
    "start_time": "2022-01-03T19:33:29.823Z"
   },
   {
    "duration": 5,
    "start_time": "2022-01-03T19:33:30.230Z"
   },
   {
    "duration": 22,
    "start_time": "2022-01-03T19:33:30.237Z"
   },
   {
    "duration": 19,
    "start_time": "2022-01-03T19:33:30.261Z"
   },
   {
    "duration": 3,
    "start_time": "2022-01-03T19:34:25.903Z"
   },
   {
    "duration": 5,
    "start_time": "2022-01-03T19:35:57.236Z"
   },
   {
    "duration": 5,
    "start_time": "2022-01-03T19:41:18.340Z"
   },
   {
    "duration": 7,
    "start_time": "2022-01-03T19:41:48.872Z"
   },
   {
    "duration": 832,
    "start_time": "2022-01-03T19:43:45.685Z"
   },
   {
    "duration": 6,
    "start_time": "2022-01-03T19:43:53.226Z"
   },
   {
    "duration": 9,
    "start_time": "2022-01-03T19:43:55.807Z"
   },
   {
    "duration": 7,
    "start_time": "2022-01-03T19:45:03.747Z"
   },
   {
    "duration": 9,
    "start_time": "2022-01-03T19:45:05.336Z"
   },
   {
    "duration": 962,
    "start_time": "2022-01-03T19:46:15.294Z"
   },
   {
    "duration": 5,
    "start_time": "2022-01-03T19:46:20.331Z"
   },
   {
    "duration": 5,
    "start_time": "2022-01-03T19:46:44.524Z"
   },
   {
    "duration": 9,
    "start_time": "2022-01-03T19:46:47.342Z"
   },
   {
    "duration": 6,
    "start_time": "2022-01-03T19:46:54.560Z"
   },
   {
    "duration": 6,
    "start_time": "2022-01-03T19:51:14.787Z"
   },
   {
    "duration": 5,
    "start_time": "2022-01-03T19:52:52.126Z"
   },
   {
    "duration": 6,
    "start_time": "2022-01-03T19:54:43.167Z"
   },
   {
    "duration": 8,
    "start_time": "2022-01-03T19:55:08.208Z"
   },
   {
    "duration": 6,
    "start_time": "2022-01-03T19:55:12.768Z"
   },
   {
    "duration": 610,
    "start_time": "2022-01-03T20:02:43.080Z"
   },
   {
    "duration": 363,
    "start_time": "2022-01-03T20:04:38.255Z"
   },
   {
    "duration": 383,
    "start_time": "2022-01-03T20:05:07.544Z"
   },
   {
    "duration": 536,
    "start_time": "2022-01-03T20:06:00.126Z"
   },
   {
    "duration": 401,
    "start_time": "2022-01-03T20:06:12.079Z"
   },
   {
    "duration": 107,
    "start_time": "2022-01-03T20:06:19.703Z"
   },
   {
    "duration": 414,
    "start_time": "2022-01-03T20:06:24.895Z"
   },
   {
    "duration": 129,
    "start_time": "2022-01-04T16:29:19.806Z"
   },
   {
    "duration": 1896,
    "start_time": "2022-01-06T18:29:16.599Z"
   },
   {
    "duration": 43,
    "start_time": "2022-01-06T18:29:27.360Z"
   },
   {
    "duration": 6209,
    "start_time": "2022-01-06T18:29:43.364Z"
   },
   {
    "duration": 30,
    "start_time": "2022-01-06T18:30:02.713Z"
   },
   {
    "duration": 12,
    "start_time": "2022-01-06T18:31:10.801Z"
   },
   {
    "duration": 13,
    "start_time": "2022-01-06T18:31:35.811Z"
   },
   {
    "duration": 12,
    "start_time": "2022-01-06T18:31:44.064Z"
   },
   {
    "duration": 368,
    "start_time": "2022-01-06T18:32:00.022Z"
   },
   {
    "duration": 37,
    "start_time": "2022-01-06T18:32:26.989Z"
   },
   {
    "duration": 87,
    "start_time": "2022-01-06T18:32:57.223Z"
   },
   {
    "duration": 102,
    "start_time": "2022-01-06T18:33:07.488Z"
   },
   {
    "duration": 102,
    "start_time": "2022-01-06T18:34:36.843Z"
   },
   {
    "duration": 109,
    "start_time": "2022-01-06T18:34:53.803Z"
   },
   {
    "duration": 118,
    "start_time": "2022-01-06T18:35:23.547Z"
   },
   {
    "duration": 176,
    "start_time": "2022-01-06T18:35:39.608Z"
   },
   {
    "duration": 118,
    "start_time": "2022-01-06T18:37:22.749Z"
   },
   {
    "duration": 124,
    "start_time": "2022-01-06T18:46:02.093Z"
   },
   {
    "duration": 246,
    "start_time": "2022-01-06T18:47:17.405Z"
   },
   {
    "duration": 11,
    "start_time": "2022-01-06T18:47:25.597Z"
   },
   {
    "duration": 10,
    "start_time": "2022-01-06T18:47:30.966Z"
   },
   {
    "duration": 364,
    "start_time": "2022-01-06T18:48:21.561Z"
   },
   {
    "duration": 6814,
    "start_time": "2022-01-06T18:53:51.183Z"
   },
   {
    "duration": 8,
    "start_time": "2022-01-06T18:54:05.016Z"
   },
   {
    "duration": 9,
    "start_time": "2022-01-06T18:54:21.899Z"
   },
   {
    "duration": 311,
    "start_time": "2022-01-06T19:04:56.054Z"
   },
   {
    "duration": 610,
    "start_time": "2022-01-06T19:05:54.094Z"
   },
   {
    "duration": 69,
    "start_time": "2022-01-06T19:05:54.706Z"
   },
   {
    "duration": 312,
    "start_time": "2022-01-06T19:05:54.778Z"
   },
   {
    "duration": 147,
    "start_time": "2022-01-06T19:05:55.093Z"
   },
   {
    "duration": 25,
    "start_time": "2022-01-06T19:05:55.243Z"
   },
   {
    "duration": 110,
    "start_time": "2022-01-06T19:05:55.271Z"
   },
   {
    "duration": 105,
    "start_time": "2022-01-06T19:05:55.384Z"
   },
   {
    "duration": 32,
    "start_time": "2022-01-06T19:05:55.495Z"
   },
   {
    "duration": 98,
    "start_time": "2022-01-06T19:05:55.534Z"
   },
   {
    "duration": 111,
    "start_time": "2022-01-06T19:05:55.636Z"
   },
   {
    "duration": 44,
    "start_time": "2022-01-06T19:05:55.750Z"
   },
   {
    "duration": 35,
    "start_time": "2022-01-06T19:05:55.797Z"
   },
   {
    "duration": 81,
    "start_time": "2022-01-06T19:05:55.835Z"
   },
   {
    "duration": 45,
    "start_time": "2022-01-06T19:05:55.920Z"
   },
   {
    "duration": 20,
    "start_time": "2022-01-06T19:05:55.968Z"
   },
   {
    "duration": 50,
    "start_time": "2022-01-06T19:05:55.991Z"
   },
   {
    "duration": 29,
    "start_time": "2022-01-06T19:05:56.050Z"
   },
   {
    "duration": 14,
    "start_time": "2022-01-06T19:05:56.083Z"
   },
   {
    "duration": 53,
    "start_time": "2022-01-06T19:05:56.101Z"
   },
   {
    "duration": 9,
    "start_time": "2022-01-06T19:05:56.164Z"
   },
   {
    "duration": 9517,
    "start_time": "2022-01-06T19:05:56.176Z"
   },
   {
    "duration": 21,
    "start_time": "2022-01-06T19:06:05.695Z"
   },
   {
    "duration": 52,
    "start_time": "2022-01-06T19:06:08.344Z"
   },
   {
    "duration": 51,
    "start_time": "2022-01-06T19:10:32.705Z"
   },
   {
    "duration": 390,
    "start_time": "2022-01-06T19:12:15.044Z"
   },
   {
    "duration": 80,
    "start_time": "2022-01-06T19:16:08.504Z"
   },
   {
    "duration": 299,
    "start_time": "2022-01-06T19:16:10.704Z"
   },
   {
    "duration": 7,
    "start_time": "2022-01-06T19:16:20.984Z"
   },
   {
    "duration": 6496,
    "start_time": "2022-01-06T19:16:48.344Z"
   },
   {
    "duration": 250,
    "start_time": "2022-01-06T19:17:27.104Z"
   },
   {
    "duration": 7,
    "start_time": "2022-01-06T19:17:35.694Z"
   },
   {
    "duration": 7268,
    "start_time": "2022-01-06T19:18:14.544Z"
   },
   {
    "duration": 6,
    "start_time": "2022-01-06T19:21:25.924Z"
   },
   {
    "duration": 4,
    "start_time": "2022-01-06T19:23:00.294Z"
   },
   {
    "duration": 11,
    "start_time": "2022-01-06T19:23:31.194Z"
   },
   {
    "duration": 266,
    "start_time": "2022-01-06T19:24:05.754Z"
   },
   {
    "duration": 267,
    "start_time": "2022-01-06T19:24:30.474Z"
   },
   {
    "duration": 9,
    "start_time": "2022-01-06T19:24:56.664Z"
   },
   {
    "duration": 12,
    "start_time": "2022-01-06T19:25:07.064Z"
   },
   {
    "duration": 386,
    "start_time": "2022-01-06T19:26:07.114Z"
   },
   {
    "duration": 252,
    "start_time": "2022-01-06T19:26:12.303Z"
   },
   {
    "duration": 257,
    "start_time": "2022-01-06T19:26:29.153Z"
   },
   {
    "duration": 261,
    "start_time": "2022-01-06T19:26:37.564Z"
   },
   {
    "duration": 12,
    "start_time": "2022-01-06T19:26:58.134Z"
   },
   {
    "duration": 13,
    "start_time": "2022-01-06T19:28:08.614Z"
   },
   {
    "duration": 13,
    "start_time": "2022-01-06T19:28:15.714Z"
   },
   {
    "duration": 534,
    "start_time": "2022-01-06T19:28:27.964Z"
   },
   {
    "duration": 18,
    "start_time": "2022-01-06T19:28:32.854Z"
   },
   {
    "duration": 6459,
    "start_time": "2022-01-06T19:29:15.284Z"
   },
   {
    "duration": 12,
    "start_time": "2022-01-06T19:29:37.404Z"
   },
   {
    "duration": 6,
    "start_time": "2022-01-06T19:30:11.814Z"
   },
   {
    "duration": 5,
    "start_time": "2022-01-06T19:30:32.484Z"
   },
   {
    "duration": 6,
    "start_time": "2022-01-06T19:31:36.513Z"
   },
   {
    "duration": 6,
    "start_time": "2022-01-06T19:31:43.553Z"
   },
   {
    "duration": 4,
    "start_time": "2022-01-06T19:33:05.184Z"
   },
   {
    "duration": 6,
    "start_time": "2022-01-06T19:33:39.114Z"
   },
   {
    "duration": 8,
    "start_time": "2022-01-06T19:34:08.674Z"
   },
   {
    "duration": 258,
    "start_time": "2022-01-06T19:47:16.223Z"
   },
   {
    "duration": 11,
    "start_time": "2022-01-06T19:47:28.823Z"
   },
   {
    "duration": 6,
    "start_time": "2022-01-06T19:47:34.743Z"
   },
   {
    "duration": 3,
    "start_time": "2022-01-06T19:47:37.516Z"
   },
   {
    "duration": 5,
    "start_time": "2022-01-06T19:47:39.054Z"
   },
   {
    "duration": 248,
    "start_time": "2022-01-06T19:49:31.294Z"
   },
   {
    "duration": 10,
    "start_time": "2022-01-06T19:49:34.463Z"
   },
   {
    "duration": 5,
    "start_time": "2022-01-06T19:49:36.094Z"
   },
   {
    "duration": 5,
    "start_time": "2022-01-06T19:49:38.453Z"
   },
   {
    "duration": 2081,
    "start_time": "2022-01-06T19:58:57.164Z"
   },
   {
    "duration": 74,
    "start_time": "2022-01-06T19:58:59.248Z"
   },
   {
    "duration": 396,
    "start_time": "2022-01-06T19:58:59.325Z"
   },
   {
    "duration": 139,
    "start_time": "2022-01-06T19:58:59.725Z"
   },
   {
    "duration": 7,
    "start_time": "2022-01-06T19:58:59.867Z"
   },
   {
    "duration": 119,
    "start_time": "2022-01-06T19:58:59.877Z"
   },
   {
    "duration": 72,
    "start_time": "2022-01-06T19:58:59.998Z"
   },
   {
    "duration": 19,
    "start_time": "2022-01-06T19:59:00.073Z"
   },
   {
    "duration": 88,
    "start_time": "2022-01-06T19:59:00.096Z"
   },
   {
    "duration": 83,
    "start_time": "2022-01-06T19:59:00.188Z"
   },
   {
    "duration": 30,
    "start_time": "2022-01-06T19:59:00.274Z"
   },
   {
    "duration": 22,
    "start_time": "2022-01-06T19:59:00.306Z"
   },
   {
    "duration": 62,
    "start_time": "2022-01-06T19:59:00.331Z"
   },
   {
    "duration": 17,
    "start_time": "2022-01-06T19:59:00.396Z"
   },
   {
    "duration": 13,
    "start_time": "2022-01-06T19:59:00.415Z"
   },
   {
    "duration": 38,
    "start_time": "2022-01-06T19:59:00.431Z"
   },
   {
    "duration": 17,
    "start_time": "2022-01-06T19:59:00.472Z"
   },
   {
    "duration": 15,
    "start_time": "2022-01-06T19:59:00.492Z"
   },
   {
    "duration": 54,
    "start_time": "2022-01-06T19:59:00.510Z"
   },
   {
    "duration": 9,
    "start_time": "2022-01-06T19:59:00.567Z"
   },
   {
    "duration": 9219,
    "start_time": "2022-01-06T19:59:00.579Z"
   },
   {
    "duration": 21,
    "start_time": "2022-01-06T19:59:09.800Z"
   },
   {
    "duration": 74,
    "start_time": "2022-01-06T19:59:09.824Z"
   },
   {
    "duration": 4,
    "start_time": "2022-01-06T19:59:09.900Z"
   },
   {
    "duration": 13,
    "start_time": "2022-01-06T19:59:09.907Z"
   },
   {
    "duration": 15,
    "start_time": "2022-01-06T19:59:09.923Z"
   },
   {
    "duration": 432,
    "start_time": "2022-01-06T19:59:09.943Z"
   },
   {
    "duration": 420,
    "start_time": "2022-01-06T19:59:10.378Z"
   },
   {
    "duration": 402,
    "start_time": "2022-01-06T19:59:10.800Z"
   },
   {
    "duration": 4,
    "start_time": "2022-01-06T19:59:11.205Z"
   },
   {
    "duration": 9,
    "start_time": "2022-01-06T19:59:11.211Z"
   },
   {
    "duration": 6,
    "start_time": "2022-01-06T19:59:11.223Z"
   },
   {
    "duration": 37,
    "start_time": "2022-01-06T19:59:11.232Z"
   },
   {
    "duration": 5,
    "start_time": "2022-01-06T19:59:11.271Z"
   },
   {
    "duration": 6,
    "start_time": "2022-01-06T19:59:11.279Z"
   }
  ],
  "celltoolbar": "Raw Cell Format",
  "kernelspec": {
   "display_name": "Python 3 (ipykernel)",
   "language": "python",
   "name": "python3"
  },
  "language_info": {
   "codemirror_mode": {
    "name": "ipython",
    "version": 3
   },
   "file_extension": ".py",
   "mimetype": "text/x-python",
   "name": "python",
   "nbconvert_exporter": "python",
   "pygments_lexer": "ipython3",
   "version": "3.9.5"
  },
  "toc": {
   "base_numbering": 1,
   "nav_menu": {},
   "number_sections": true,
   "sideBar": true,
   "skip_h1_title": true,
   "title_cell": "Table of Contents",
   "title_sidebar": "Contents",
   "toc_cell": false,
   "toc_position": {
    "height": "calc(100% - 180px)",
    "left": "10px",
    "top": "150px",
    "width": "419px"
   },
   "toc_section_display": true,
   "toc_window_display": true
  }
 },
 "nbformat": 4,
 "nbformat_minor": 2
}
